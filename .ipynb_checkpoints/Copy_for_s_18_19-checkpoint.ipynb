{
 "cells": [
  {
   "cell_type": "code",
   "execution_count": 4,
   "id": "decf2114",
   "metadata": {
    "colab": {
     "base_uri": "https://localhost:8080/"
    },
    "id": "decf2114",
    "outputId": "1b6e748e-bdf1-490c-e779-a70238959e16"
   },
   "outputs": [
    {
     "name": "stdout",
     "output_type": "stream",
     "text": [
      "Requirement already satisfied: keras in c:\\users\\devan\\anaconda3\\lib\\site-packages (2.11.0)"
     ]
    },
    {
     "name": "stderr",
     "output_type": "stream",
     "text": [
      "WARNING: Ignoring invalid distribution -tatsmodels (c:\\users\\devan\\anaconda3\\lib\\site-packages)\n",
      "WARNING: Ignoring invalid distribution -atplotlib (c:\\users\\devan\\anaconda3\\lib\\site-packages)\n",
      "WARNING: Ignoring invalid distribution -tatsmodels (c:\\users\\devan\\anaconda3\\lib\\site-packages)\n",
      "WARNING: Ignoring invalid distribution -atplotlib (c:\\users\\devan\\anaconda3\\lib\\site-packages)\n",
      "WARNING: Ignoring invalid distribution -tatsmodels (c:\\users\\devan\\anaconda3\\lib\\site-packages)\n",
      "WARNING: Ignoring invalid distribution -atplotlib (c:\\users\\devan\\anaconda3\\lib\\site-packages)\n",
      "WARNING: Ignoring invalid distribution -tatsmodels (c:\\users\\devan\\anaconda3\\lib\\site-packages)\n",
      "WARNING: Ignoring invalid distribution -atplotlib (c:\\users\\devan\\anaconda3\\lib\\site-packages)\n",
      "WARNING: Ignoring invalid distribution -tatsmodels (c:\\users\\devan\\anaconda3\\lib\\site-packages)\n",
      "WARNING: Ignoring invalid distribution -atplotlib (c:\\users\\devan\\anaconda3\\lib\\site-packages)\n",
      "WARNING: Ignoring invalid distribution -tatsmodels (c:\\users\\devan\\anaconda3\\lib\\site-packages)\n",
      "WARNING: Ignoring invalid distribution -atplotlib (c:\\users\\devan\\anaconda3\\lib\\site-packages)\n"
     ]
    },
    {
     "name": "stdout",
     "output_type": "stream",
     "text": [
      "\n",
      "Requirement already satisfied: tensorflow in c:\\users\\devan\\anaconda3\\lib\\site-packages (2.11.0)\n",
      "Requirement already satisfied: tensorflow-intel==2.11.0 in c:\\users\\devan\\anaconda3\\lib\\site-packages (from tensorflow) (2.11.0)\n",
      "Requirement already satisfied: flatbuffers>=2.0 in c:\\users\\devan\\anaconda3\\lib\\site-packages (from tensorflow-intel==2.11.0->tensorflow) (22.11.23)\n",
      "Requirement already satisfied: wrapt>=1.11.0 in c:\\users\\devan\\anaconda3\\lib\\site-packages (from tensorflow-intel==2.11.0->tensorflow) (1.12.1)\n",
      "Requirement already satisfied: grpcio<2.0,>=1.24.3 in c:\\users\\devan\\anaconda3\\lib\\site-packages (from tensorflow-intel==2.11.0->tensorflow) (1.42.0)\n",
      "Requirement already satisfied: tensorflow-io-gcs-filesystem>=0.23.1 in c:\\users\\devan\\anaconda3\\lib\\site-packages (from tensorflow-intel==2.11.0->tensorflow) (0.28.0)\n",
      "Requirement already satisfied: protobuf<3.20,>=3.9.2 in c:\\users\\devan\\anaconda3\\lib\\site-packages (from tensorflow-intel==2.11.0->tensorflow) (3.19.1)\n",
      "Requirement already satisfied: packaging in c:\\users\\devan\\appdata\\roaming\\python\\python39\\site-packages (from tensorflow-intel==2.11.0->tensorflow) (21.3)\n",
      "Requirement already satisfied: astunparse>=1.6.0 in c:\\users\\devan\\anaconda3\\lib\\site-packages (from tensorflow-intel==2.11.0->tensorflow) (1.6.3)\n",
      "Requirement already satisfied: absl-py>=1.0.0 in c:\\users\\devan\\anaconda3\\lib\\site-packages (from tensorflow-intel==2.11.0->tensorflow) (1.3.0)\n",
      "Requirement already satisfied: tensorflow-estimator<2.12,>=2.11.0 in c:\\users\\devan\\anaconda3\\lib\\site-packages (from tensorflow-intel==2.11.0->tensorflow) (2.11.0)\n",
      "Requirement already satisfied: gast<=0.4.0,>=0.2.1 in c:\\users\\devan\\anaconda3\\lib\\site-packages (from tensorflow-intel==2.11.0->tensorflow) (0.4.0)\n",
      "Requirement already satisfied: six>=1.12.0 in c:\\users\\devan\\appdata\\roaming\\python\\python39\\site-packages (from tensorflow-intel==2.11.0->tensorflow) (1.16.0)\n",
      "Requirement already satisfied: opt-einsum>=2.3.2 in c:\\users\\devan\\anaconda3\\lib\\site-packages (from tensorflow-intel==2.11.0->tensorflow) (3.3.0)\n",
      "Requirement already satisfied: numpy>=1.20 in c:\\users\\devan\\anaconda3\\lib\\site-packages (from tensorflow-intel==2.11.0->tensorflow) (1.22.4)\n",
      "Requirement already satisfied: termcolor>=1.1.0 in c:\\users\\devan\\anaconda3\\lib\\site-packages (from tensorflow-intel==2.11.0->tensorflow) (2.1.1)\n",
      "Requirement already satisfied: typing-extensions>=3.6.6 in c:\\users\\devan\\anaconda3\\lib\\site-packages (from tensorflow-intel==2.11.0->tensorflow) (4.4.0)\n",
      "Requirement already satisfied: tensorboard<2.12,>=2.11 in c:\\users\\devan\\anaconda3\\lib\\site-packages (from tensorflow-intel==2.11.0->tensorflow) (2.11.0)\n",
      "Requirement already satisfied: libclang>=13.0.0 in c:\\users\\devan\\anaconda3\\lib\\site-packages (from tensorflow-intel==2.11.0->tensorflow) (14.0.6)\n",
      "Requirement already satisfied: google-pasta>=0.1.1 in c:\\users\\devan\\anaconda3\\lib\\site-packages (from tensorflow-intel==2.11.0->tensorflow) (0.2.0)\n",
      "Requirement already satisfied: keras<2.12,>=2.11.0 in c:\\users\\devan\\anaconda3\\lib\\site-packages (from tensorflow-intel==2.11.0->tensorflow) (2.11.0)\n",
      "Requirement already satisfied: setuptools in c:\\users\\devan\\anaconda3\\lib\\site-packages (from tensorflow-intel==2.11.0->tensorflow) (58.0.4)\n",
      "Requirement already satisfied: h5py>=2.9.0 in c:\\users\\devan\\anaconda3\\lib\\site-packages (from tensorflow-intel==2.11.0->tensorflow) (3.2.1)\n",
      "Requirement already satisfied: wheel<1.0,>=0.23.0 in c:\\users\\devan\\anaconda3\\lib\\site-packages (from astunparse>=1.6.0->tensorflow-intel==2.11.0->tensorflow) (0.37.0)\n",
      "Requirement already satisfied: werkzeug>=1.0.1 in c:\\users\\devan\\anaconda3\\lib\\site-packages (from tensorboard<2.12,>=2.11->tensorflow-intel==2.11.0->tensorflow) (2.0.2)\n",
      "Requirement already satisfied: google-auth<3,>=1.6.3 in c:\\users\\devan\\anaconda3\\lib\\site-packages (from tensorboard<2.12,>=2.11->tensorflow-intel==2.11.0->tensorflow) (2.6.0)\n",
      "Requirement already satisfied: tensorboard-plugin-wit>=1.6.0 in c:\\users\\devan\\anaconda3\\lib\\site-packages (from tensorboard<2.12,>=2.11->tensorflow-intel==2.11.0->tensorflow) (1.8.1)\n",
      "Requirement already satisfied: requests<3,>=2.21.0 in c:\\users\\devan\\anaconda3\\lib\\site-packages (from tensorboard<2.12,>=2.11->tensorflow-intel==2.11.0->tensorflow) (2.26.0)\n",
      "Requirement already satisfied: tensorboard-data-server<0.7.0,>=0.6.0 in c:\\users\\devan\\anaconda3\\lib\\site-packages (from tensorboard<2.12,>=2.11->tensorflow-intel==2.11.0->tensorflow) (0.6.1)\n",
      "Requirement already satisfied: markdown>=2.6.8 in c:\\users\\devan\\anaconda3\\lib\\site-packages (from tensorboard<2.12,>=2.11->tensorflow-intel==2.11.0->tensorflow) (3.3.4)\n",
      "Requirement already satisfied: google-auth-oauthlib<0.5,>=0.4.1 in c:\\users\\devan\\anaconda3\\lib\\site-packages (from tensorboard<2.12,>=2.11->tensorflow-intel==2.11.0->tensorflow) (0.4.6)\n",
      "Requirement already satisfied: rsa<5,>=3.1.4 in c:\\users\\devan\\anaconda3\\lib\\site-packages (from google-auth<3,>=1.6.3->tensorboard<2.12,>=2.11->tensorflow-intel==2.11.0->tensorflow) (4.7.2)\n",
      "Requirement already satisfied: cachetools<6.0,>=2.0.0 in c:\\users\\devan\\anaconda3\\lib\\site-packages (from google-auth<3,>=1.6.3->tensorboard<2.12,>=2.11->tensorflow-intel==2.11.0->tensorflow) (4.2.2)\n",
      "Requirement already satisfied: pyasn1-modules>=0.2.1 in c:\\users\\devan\\anaconda3\\lib\\site-packages (from google-auth<3,>=1.6.3->tensorboard<2.12,>=2.11->tensorflow-intel==2.11.0->tensorflow) (0.2.8)\n",
      "Requirement already satisfied: requests-oauthlib>=0.7.0 in c:\\users\\devan\\anaconda3\\lib\\site-packages (from google-auth-oauthlib<0.5,>=0.4.1->tensorboard<2.12,>=2.11->tensorflow-intel==2.11.0->tensorflow) (1.3.1)\n",
      "Requirement already satisfied: pyasn1<0.5.0,>=0.4.6 in c:\\users\\devan\\anaconda3\\lib\\site-packages (from pyasn1-modules>=0.2.1->google-auth<3,>=1.6.3->tensorboard<2.12,>=2.11->tensorflow-intel==2.11.0->tensorflow) (0.4.8)\n",
      "Requirement already satisfied: urllib3<1.27,>=1.21.1 in c:\\users\\devan\\anaconda3\\lib\\site-packages (from requests<3,>=2.21.0->tensorboard<2.12,>=2.11->tensorflow-intel==2.11.0->tensorflow) (1.26.7)\n",
      "Requirement already satisfied: charset-normalizer~=2.0.0 in c:\\users\\devan\\anaconda3\\lib\\site-packages (from requests<3,>=2.21.0->tensorboard<2.12,>=2.11->tensorflow-intel==2.11.0->tensorflow) (2.0.4)\n",
      "Requirement already satisfied: certifi>=2017.4.17 in c:\\users\\devan\\anaconda3\\lib\\site-packages (from requests<3,>=2.21.0->tensorboard<2.12,>=2.11->tensorflow-intel==2.11.0->tensorflow) (2022.9.14)\n",
      "Requirement already satisfied: idna<4,>=2.5 in c:\\users\\devan\\anaconda3\\lib\\site-packages (from requests<3,>=2.21.0->tensorboard<2.12,>=2.11->tensorflow-intel==2.11.0->tensorflow) (3.2)\n",
      "Requirement already satisfied: oauthlib>=3.0.0 in c:\\users\\devan\\anaconda3\\lib\\site-packages (from requests-oauthlib>=0.7.0->google-auth-oauthlib<0.5,>=0.4.1->tensorboard<2.12,>=2.11->tensorflow-intel==2.11.0->tensorflow) (3.2.2)\n",
      "Requirement already satisfied: pyparsing!=3.0.5,>=2.0.2 in c:\\users\\devan\\appdata\\roaming\\python\\python39\\site-packages (from packaging->tensorflow-intel==2.11.0->tensorflow) (3.0.9)\n"
     ]
    },
    {
     "name": "stderr",
     "output_type": "stream",
     "text": [
      "WARNING: Ignoring invalid distribution -tatsmodels (c:\\users\\devan\\anaconda3\\lib\\site-packages)\n",
      "WARNING: Ignoring invalid distribution -atplotlib (c:\\users\\devan\\anaconda3\\lib\\site-packages)\n",
      "WARNING: Ignoring invalid distribution -tatsmodels (c:\\users\\devan\\anaconda3\\lib\\site-packages)\n",
      "WARNING: Ignoring invalid distribution -atplotlib (c:\\users\\devan\\anaconda3\\lib\\site-packages)\n",
      "WARNING: Ignoring invalid distribution -tatsmodels (c:\\users\\devan\\anaconda3\\lib\\site-packages)\n",
      "WARNING: Ignoring invalid distribution -atplotlib (c:\\users\\devan\\anaconda3\\lib\\site-packages)\n",
      "WARNING: Ignoring invalid distribution -tatsmodels (c:\\users\\devan\\anaconda3\\lib\\site-packages)\n",
      "WARNING: Ignoring invalid distribution -atplotlib (c:\\users\\devan\\anaconda3\\lib\\site-packages)\n",
      "WARNING: Ignoring invalid distribution -tatsmodels (c:\\users\\devan\\anaconda3\\lib\\site-packages)\n",
      "WARNING: Ignoring invalid distribution -atplotlib (c:\\users\\devan\\anaconda3\\lib\\site-packages)\n",
      "WARNING: Ignoring invalid distribution -tatsmodels (c:\\users\\devan\\anaconda3\\lib\\site-packages)\n",
      "WARNING: Ignoring invalid distribution -atplotlib (c:\\users\\devan\\anaconda3\\lib\\site-packages)\n"
     ]
    },
    {
     "name": "stdout",
     "output_type": "stream",
     "text": [
      "Requirement already satisfied: xgboost in c:\\users\\devan\\anaconda3\\lib\\site-packages (1.6.2)\n",
      "Requirement already satisfied: scipy in c:\\users\\devan\\anaconda3\\lib\\site-packages (from xgboost) (1.7.1)\n",
      "Requirement already satisfied: numpy in c:\\users\\devan\\anaconda3\\lib\\site-packages (from xgboost) (1.22.4)\n"
     ]
    },
    {
     "name": "stderr",
     "output_type": "stream",
     "text": [
      "WARNING: Ignoring invalid distribution -tatsmodels (c:\\users\\devan\\anaconda3\\lib\\site-packages)\n",
      "WARNING: Ignoring invalid distribution -atplotlib (c:\\users\\devan\\anaconda3\\lib\\site-packages)\n",
      "WARNING: Ignoring invalid distribution -tatsmodels (c:\\users\\devan\\anaconda3\\lib\\site-packages)\n",
      "WARNING: Ignoring invalid distribution -atplotlib (c:\\users\\devan\\anaconda3\\lib\\site-packages)\n",
      "WARNING: Ignoring invalid distribution -tatsmodels (c:\\users\\devan\\anaconda3\\lib\\site-packages)\n",
      "WARNING: Ignoring invalid distribution -atplotlib (c:\\users\\devan\\anaconda3\\lib\\site-packages)\n",
      "WARNING: Ignoring invalid distribution -tatsmodels (c:\\users\\devan\\anaconda3\\lib\\site-packages)\n",
      "WARNING: Ignoring invalid distribution -atplotlib (c:\\users\\devan\\anaconda3\\lib\\site-packages)\n",
      "WARNING: Ignoring invalid distribution -tatsmodels (c:\\users\\devan\\anaconda3\\lib\\site-packages)\n",
      "WARNING: Ignoring invalid distribution -atplotlib (c:\\users\\devan\\anaconda3\\lib\\site-packages)\n",
      "WARNING: Ignoring invalid distribution -tatsmodels (c:\\users\\devan\\anaconda3\\lib\\site-packages)\n",
      "WARNING: Ignoring invalid distribution -atplotlib (c:\\users\\devan\\anaconda3\\lib\\site-packages)\n"
     ]
    },
    {
     "name": "stdout",
     "output_type": "stream",
     "text": [
      "Requirement already satisfied: catboost in c:\\users\\devan\\anaconda3\\lib\\site-packages (1.1.1)\n",
      "Requirement already satisfied: pandas>=0.24.0 in c:\\users\\devan\\anaconda3\\lib\\site-packages (from catboost) (1.3.4)\n",
      "Requirement already satisfied: graphviz in c:\\users\\devan\\anaconda3\\lib\\site-packages (from catboost) (0.20.1)\n",
      "Requirement already satisfied: plotly in c:\\users\\devan\\anaconda3\\lib\\site-packages (from catboost) (5.9.0)\n",
      "Requirement already satisfied: scipy in c:\\users\\devan\\anaconda3\\lib\\site-packages (from catboost) (1.7.1)\n",
      "Requirement already satisfied: numpy>=1.16.0 in c:\\users\\devan\\anaconda3\\lib\\site-packages (from catboost) (1.22.4)\n",
      "Requirement already satisfied: matplotlib in c:\\users\\devan\\appdata\\roaming\\python\\python39\\site-packages (from catboost) (3.6.2)\n",
      "Requirement already satisfied: six in c:\\users\\devan\\appdata\\roaming\\python\\python39\\site-packages (from catboost) (1.16.0)\n",
      "Requirement already satisfied: python-dateutil>=2.7.3 in c:\\users\\devan\\appdata\\roaming\\python\\python39\\site-packages (from pandas>=0.24.0->catboost) (2.8.2)\n",
      "Requirement already satisfied: pytz>=2017.3 in c:\\users\\devan\\anaconda3\\lib\\site-packages (from pandas>=0.24.0->catboost) (2021.3)\n",
      "Requirement already satisfied: cycler>=0.10 in c:\\users\\devan\\appdata\\roaming\\python\\python39\\site-packages (from matplotlib->catboost) (0.11.0)\n",
      "Requirement already satisfied: pillow>=6.2.0 in c:\\users\\devan\\appdata\\roaming\\python\\python39\\site-packages (from matplotlib->catboost) (9.3.0)\n",
      "Requirement already satisfied: pyparsing>=2.2.1 in c:\\users\\devan\\appdata\\roaming\\python\\python39\\site-packages (from matplotlib->catboost) (3.0.9)\n",
      "Requirement already satisfied: fonttools>=4.22.0 in c:\\users\\devan\\appdata\\roaming\\python\\python39\\site-packages (from matplotlib->catboost) (4.38.0)\n",
      "Requirement already satisfied: kiwisolver>=1.0.1 in c:\\users\\devan\\appdata\\roaming\\python\\python39\\site-packages (from matplotlib->catboost) (1.4.4)\n",
      "Requirement already satisfied: packaging>=20.0 in c:\\users\\devan\\appdata\\roaming\\python\\python39\\site-packages (from matplotlib->catboost) (21.3)\n",
      "Requirement already satisfied: contourpy>=1.0.1 in c:\\users\\devan\\appdata\\roaming\\python\\python39\\site-packages (from matplotlib->catboost) (1.0.6)\n",
      "Requirement already satisfied: tenacity>=6.2.0 in c:\\users\\devan\\anaconda3\\lib\\site-packages (from plotly->catboost) (8.0.1)\n"
     ]
    },
    {
     "name": "stderr",
     "output_type": "stream",
     "text": [
      "WARNING: Ignoring invalid distribution -tatsmodels (c:\\users\\devan\\anaconda3\\lib\\site-packages)\n",
      "WARNING: Ignoring invalid distribution -atplotlib (c:\\users\\devan\\anaconda3\\lib\\site-packages)\n",
      "WARNING: Ignoring invalid distribution -tatsmodels (c:\\users\\devan\\anaconda3\\lib\\site-packages)\n",
      "WARNING: Ignoring invalid distribution -atplotlib (c:\\users\\devan\\anaconda3\\lib\\site-packages)\n",
      "WARNING: Ignoring invalid distribution -tatsmodels (c:\\users\\devan\\anaconda3\\lib\\site-packages)\n",
      "WARNING: Ignoring invalid distribution -atplotlib (c:\\users\\devan\\anaconda3\\lib\\site-packages)\n",
      "WARNING: Ignoring invalid distribution -tatsmodels (c:\\users\\devan\\anaconda3\\lib\\site-packages)\n",
      "WARNING: Ignoring invalid distribution -atplotlib (c:\\users\\devan\\anaconda3\\lib\\site-packages)\n",
      "WARNING: Ignoring invalid distribution -tatsmodels (c:\\users\\devan\\anaconda3\\lib\\site-packages)\n",
      "WARNING: Ignoring invalid distribution -atplotlib (c:\\users\\devan\\anaconda3\\lib\\site-packages)\n",
      "WARNING: Ignoring invalid distribution -tatsmodels (c:\\users\\devan\\anaconda3\\lib\\site-packages)\n",
      "WARNING: Ignoring invalid distribution -atplotlib (c:\\users\\devan\\anaconda3\\lib\\site-packages)\n"
     ]
    }
   ],
   "source": [
    "!pip install keras\n",
    "!pip install tensorflow\n",
    "!pip install xgboost\n",
    "!pip install catboost"
   ]
  },
  {
   "cell_type": "code",
   "execution_count": 5,
   "id": "a28c23b4",
   "metadata": {
    "id": "a28c23b4"
   },
   "outputs": [],
   "source": [
    "import numpy as np \n",
    "import pandas as pd\n",
    "import matplotlib.pyplot as plt\n",
    "import seaborn as sns \n",
    "%matplotlib inline \n",
    "\n",
    "## Models\n",
    "from sklearn import linear_model\n",
    "from sklearn.linear_model import LogisticRegression\n",
    "from sklearn.ensemble import RandomForestClassifier\n",
    "from sklearn.linear_model import Perceptron\n",
    "from sklearn.linear_model import SGDClassifier\n",
    "from sklearn.tree import DecisionTreeClassifier\n",
    "from sklearn.neighbors import KNeighborsClassifier\n",
    "from sklearn.svm import SVC, LinearSVC\n",
    "from sklearn.naive_bayes import GaussianNB\n",
    "from xgboost import XGBClassifier\n",
    "from xgboost import XGBRegressor\n",
    "import xgboost as xgb\n",
    "from sklearn.ensemble import AdaBoostClassifier\n",
    "from catboost import CatBoostClassifier\n",
    "import lightgbm as lgb \n",
    "from keras.models import Sequential\n",
    "from keras.layers import Dense\n",
    "from sklearn.neural_network import MLPClassifier\n",
    "\n",
    "## Model evaluators\n",
    "from sklearn.model_selection import train_test_split, cross_val_score\n",
    "from sklearn.model_selection import RandomizedSearchCV, GridSearchCV\n",
    "from sklearn.metrics import confusion_matrix, classification_report\n",
    "from sklearn.metrics import precision_score, recall_score, f1_score\n",
    "from sklearn.metrics import plot_roc_curve\n"
   ]
  },
  {
   "cell_type": "code",
   "execution_count": 6,
   "id": "74129ff4",
   "metadata": {
    "colab": {
     "base_uri": "https://localhost:8080/"
    },
    "id": "74129ff4",
    "outputId": "ea68dd8b-312d-43b6-d7e5-858deaeefe15"
   },
   "outputs": [
    {
     "data": {
      "text/plain": [
       "(130000, 53)"
      ]
     },
     "execution_count": 6,
     "metadata": {},
     "output_type": "execute_result"
    }
   ],
   "source": [
    "train_df = pd.read_csv(\"NewTrainingData.csv\")\n",
    "train_df.shape"
   ]
  },
  {
   "cell_type": "code",
   "execution_count": 7,
   "id": "1cb1fa41",
   "metadata": {
    "id": "1cb1fa41"
   },
   "outputs": [],
   "source": [
    "train_df1 = train_df.drop(['mvar47','application_key'], axis=1)\n",
    "\n",
    "train_df2 = train_df1.replace(to_replace =\"[a-zA-Z]+\", value = np.nan, regex = True)\n",
    "train_df2 = train_df2.astype('float')\n",
    "train_df2 = pd.concat([train_df2, train_df['mvar47']], axis=1)"
   ]
  },
  {
   "cell_type": "code",
   "execution_count": 8,
   "id": "mHqnuvOGhr6G",
   "metadata": {
    "id": "mHqnuvOGhr6G"
   },
   "outputs": [],
   "source": [
    "# one hot encoding \n",
    "train_df2 = pd.get_dummies(train_df2, columns=['mvar47'])"
   ]
  },
  {
   "cell_type": "markdown",
   "id": "0888ba72",
   "metadata": {
    "id": "0888ba72"
   },
   "source": [
    "# **Exploratory Data Analysis**"
   ]
  },
  {
   "cell_type": "markdown",
   "id": "3369c3cd",
   "metadata": {
    "id": "3369c3cd"
   },
   "source": [
    "**Classes' Distribution**"
   ]
  },
  {
   "cell_type": "code",
   "execution_count": 9,
   "id": "605d1653",
   "metadata": {
    "colab": {
     "base_uri": "https://localhost:8080/",
     "height": 346
    },
    "id": "605d1653",
    "outputId": "4a5b53fd-9729-49ea-fa45-092f5816ef7b"
   },
   "outputs": [
    {
     "name": "stderr",
     "output_type": "stream",
     "text": [
      "C:\\Users\\devan\\Anaconda3\\lib\\site-packages\\seaborn\\_decorators.py:36: FutureWarning: Pass the following variable as a keyword arg: x. From version 0.12, the only valid positional argument will be `data`, and passing other arguments without an explicit keyword will result in an error or misinterpretation.\n",
      "  warnings.warn(\n"
     ]
    },
    {
     "data": {
      "image/png": "[encoded data removed]",
      "text/plain": [
       "<Figure size 504x288 with 1 Axes>"
      ]
     },
     "metadata": {
      "needs_background": "light"
     },
     "output_type": "display_data"
    }
   ],
   "source": [
    "# The frequency of defaults\n",
    "yes = train_df2.default_ind.sum()\n",
    "no = len(train_df2)-yes\n",
    "\n",
    "# Percentage\n",
    "yes_perc = round(yes/len(train_df2)*100, 1)\n",
    "no_perc = round(no/len(train_df2)*100, 1)\n",
    "\n",
    "import sys \n",
    "plt.figure(figsize=(7,4))\n",
    "sns.set_context('notebook', font_scale=1.2)\n",
    "sns.countplot('default_ind', data=train_df2, palette=\"Blues\")\n",
    "plt.annotate('Non-default: {}'.format(no), xy=(-0.3, 15000), xytext=(-0.3, 3000), size=12)\n",
    "plt.annotate('Default: {}'.format(yes), xy=(0.7, 15000), xytext=(0.7, 3000), size=12)\n",
    "plt.annotate(str(no_perc)+\" %\", xy=(-0.3, 15000), xytext=(-0.1, 8000), size=12)\n",
    "plt.annotate(str(yes_perc)+\" %\", xy=(0.7, 15000), xytext=(0.9, 8000), size=12)\n",
    "#Removing the frame\n",
    "plt.box(False);"
   ]
  },
  {
   "cell_type": "code",
   "execution_count": null,
   "id": "vGqwwmhxzKaS",
   "metadata": {
    "colab": {
     "base_uri": "https://localhost:8080/",
     "height": 574
    },
    "id": "vGqwwmhxzKaS",
    "outputId": "2dc6f1d0-3ac0-446c-a975-0c586ea932e2"
   },
   "outputs": [],
   "source": [
    "# this code helps us figure out if there is any relation between the missing values of two or more columns\n",
    "# whether it is a case of MACR or MAR\n",
    "!pip install missingno\n",
    "import missingno as msno\n",
    "msno.heatmap(train_df2)"
   ]
  },
  {
   "cell_type": "code",
   "execution_count": null,
   "id": "8D1qKpvK5iSg",
   "metadata": {
    "colab": {
     "base_uri": "https://localhost:8080/"
    },
    "id": "8D1qKpvK5iSg",
    "outputId": "a7773963-413d-4344-afaf-d5fd4fde0114"
   },
   "outputs": [],
   "source": [
    "train_df2.shape"
   ]
  },
  {
   "cell_type": "markdown",
   "id": "ZqhZdn3fyyxP",
   "metadata": {
    "id": "ZqhZdn3fyyxP"
   },
   "source": [
    "#### **Train Test Split and then doing Feature Engineering**"
   ]
  },
  {
   "cell_type": "code",
   "execution_count": null,
   "id": "91M4enAB1ju1",
   "metadata": {
    "id": "91M4enAB1ju1"
   },
   "outputs": [],
   "source": [
    "X = train_df2.drop(['default_ind'], axis = 1)\n",
    "y = train_df2['default_ind']\n",
    "\n",
    "from sklearn.model_selection import train_test_split\n",
    "X_train, X_test, Y_train, y_test = train_test_split(X, y, test_size=0.33, random_state=42, stratify=y)"
   ]
  },
  {
   "cell_type": "code",
   "execution_count": null,
   "id": "UDxNDSL_i-GZ",
   "metadata": {
    "id": "UDxNDSL_i-GZ"
   },
   "outputs": [],
   "source": [
    "df_list = [X_train, X_test]\n",
    "\n",
    "for df in df_list:\n",
    "  df['mvar7'] = df['mvar7'] + df['mvar8'] \n",
    "  df['mvar11_12'] = df['mvar11']/df['mvar12'] \n",
    "  mvar161718 = (df['mvar16'].add(df['mvar17'], fill_value=0)).add(df['mvar18'], fill_value=0)\n",
    "  df['mvar16'] = mvar161718\n",
    "  df['mvar19'] = df['mvar19'] + df['mvar20'] \n",
    "  df['mvar16_19'] = df['mvar16']/df['mvar19'] \n",
    "  df['mvar26'] = (df['mvar26']+df['mvar27'])\n",
    "  df['mvar30'] = df['mvar30'] + df['mvar31']\n",
    "  df['mvar30_32'] = (df['mvar30']/30) / df['mvar32']\n",
    "  df['mvar35'] = df['mvar35'] + df['mvar34']\n",
    "  df['mvar28_36'] = df['mvar28'] / df['mvar36']\n",
    "  df['mvar22_38'] = (df['mvar22']/100) * df['mvar38']\n",
    "  df['mvar39_36'] = df['mvar39'] / df['mvar36']\n",
    "  df['mvar34_39'] = df['mvar34'] / df['mvar39']\n",
    "  df['mvar43_36'] = df['mvar43'] / df['mvar36']\n",
    "  df['mvar43_38'] = df['mvar43'] / df['mvar38']\n",
    "  df['mvar45'] = (df['mvar45'] + df['mvar46'])\n",
    "  df.replace([np.inf, -np.inf], np.nan, inplace=True)"
   ]
  },
  {
   "cell_type": "code",
   "execution_count": null,
   "id": "z6jZHhJ7tuER",
   "metadata": {
    "id": "z6jZHhJ7tuER"
   },
   "outputs": [],
   "source": [
    "#Since we have combined certain columns, we need to drop those which are already considered in the combination.\n",
    "\n",
    "X_train1 = X_train.drop(['mvar8', 'mvar17', 'mvar18', 'mvar20', 'mvar22', 'mvar27', 'mvar31', 'mvar34', 'mvar38', \n",
    "                         'mvar46', 'mvar48', 'mvar49'], axis=1)\n",
    "\n",
    "X_test1 = X_test.drop(['mvar8', 'mvar17', 'mvar18', 'mvar20', 'mvar22', 'mvar27', 'mvar31', 'mvar34', 'mvar38', \n",
    "                       'mvar46', 'mvar48', 'mvar49'], axis=1)"
   ]
  },
  {
   "cell_type": "code",
   "execution_count": null,
   "id": "8928196f",
   "metadata": {
    "colab": {
     "base_uri": "https://localhost:8080/",
     "height": 363
    },
    "id": "8928196f",
    "outputId": "3ae9086d-ae02-4046-aed1-857e32d5c2ff"
   },
   "outputs": [],
   "source": [
    "null_df = pd.DataFrame((X_train1.isnull().sum())*100/X_train1.shape[0]).reset_index()\n",
    "null_df.columns = ['Column Name', 'Null Values Percentage']\n",
    "\n",
    "# more than or equal to 40% empty rows columns\n",
    "nullcol_50_df = null_df[null_df[\"Null Values Percentage\"]>=50]\n",
    "nullcol_50_df.sort_values(by='Null Values Percentage', ascending=False)"
   ]
  },
  {
   "cell_type": "code",
   "execution_count": null,
   "id": "doyRVtkWsTD9",
   "metadata": {
    "id": "doyRVtkWsTD9"
   },
   "outputs": [],
   "source": [
    "# dropping columns which have > 70% NULL values\n",
    "X_train2 = X_train1.drop(['mvar30_32', 'mvar34_39', 'mvar30', 'mvar40'], axis=1)\n",
    "X_test2 = X_test1.drop(['mvar30_32', 'mvar34_39', 'mvar30', 'mvar40'], axis=1)"
   ]
  },
  {
   "cell_type": "markdown",
   "id": "29364625",
   "metadata": {
    "id": "29364625"
   },
   "source": [
    "**Check Correlation**"
   ]
  },
  {
   "cell_type": "code",
   "execution_count": null,
   "id": "RES4HdG6b-yV",
   "metadata": {
    "id": "RES4HdG6b-yV"
   },
   "outputs": [],
   "source": [
    "X_comb = pd.DataFrame(pd.concat([X_train2, Y_train], axis=1))"
   ]
  },
  {
   "cell_type": "code",
   "execution_count": null,
   "id": "17LZJ1jS8dHa",
   "metadata": {
    "colab": {
     "base_uri": "https://localhost:8080/"
    },
    "id": "17LZJ1jS8dHa",
    "outputId": "c4c08841-e298-4ee1-bd1c-74ab0291667d"
   },
   "outputs": [],
   "source": [
    "#Correlation with output variable\n",
    "cor = X_comb.corr()\n",
    "cor_target = abs(cor[\"default_ind\"])\n",
    "#Selecting highly correlated features\n",
    "relevant_features = cor_target[cor_target>0.25]\n",
    "relevant_features"
   ]
  },
  {
   "cell_type": "code",
   "execution_count": null,
   "id": "ghjgI_8ttqUs",
   "metadata": {
    "id": "ghjgI_8ttqUs"
   },
   "outputs": [],
   "source": [
    "def print_highly_correlated(df, features, threshold=0.5):\n",
    "  corr_df = df[features].corr(method='spearman', min_periods = 3) # get correlations\n",
    "  correlated_features = np.where(np.abs(corr_df) > threshold) # select ones above the abs threshold\n",
    "  correlated_features = [(corr_df.iloc[x,y], x, y) for x, y in zip(*correlated_features) if x != y and x < y] # avoid duplication\n",
    "  s_corr_list = sorted(correlated_features, key=lambda x: -abs(x[0])) # sort by correlation value\n",
    "  \n",
    "  if s_corr_list == []:\n",
    "    print(\"There are no highly correlated features with correlation above\", threshold)\n",
    "  else:\n",
    "    for v, i, j in s_corr_list:\n",
    "      cols = df[features].columns\n",
    "      print (\"%s and %s = %.3f\" % (corr_df.index[i], corr_df.columns[j], v))"
   ]
  },
  {
   "cell_type": "code",
   "execution_count": null,
   "id": "9OJHBrS8viFD",
   "metadata": {
    "colab": {
     "base_uri": "https://localhost:8080/"
    },
    "id": "9OJHBrS8viFD",
    "outputId": "f3f2ed55-689b-4bae-a599-547a6db7ea33"
   },
   "outputs": [],
   "source": [
    "print_highly_correlated(X_comb, X_comb.columns, threshold=0.7)"
   ]
  },
  {
   "cell_type": "markdown",
   "id": "2i2cJ2pLxV-_",
   "metadata": {
    "id": "2i2cJ2pLxV-_"
   },
   "source": [
    "*Variance Inflation factor*"
   ]
  },
  {
   "cell_type": "code",
   "execution_count": null,
   "id": "bhyuJN9GxWpE",
   "metadata": {
    "colab": {
     "base_uri": "https://localhost:8080/",
     "height": 519
    },
    "id": "bhyuJN9GxWpE",
    "outputId": "eb500f42-f20d-4375-d3c9-6392d2802624"
   },
   "outputs": [],
   "source": [
    "from statsmodels.stats.outliers_influence import variance_inflation_factor\n",
    "# Indicate which variables to compute VIF\n",
    "Y = X_comb\n",
    "\n",
    "Y.dropna(inplace=True) # vif can't be calculated with nan values\n",
    "Y = Y._get_numeric_data()\n",
    "\n",
    "# Compute VIF\n",
    "vif = pd.DataFrame()\n",
    "vif[\"variables\"] = Y.columns\n",
    "vif[\"VIF\"] = [variance_inflation_factor(Y.values, i) for i in range(Y.shape[1])]\n",
    "vif_sorted = vif.sort_values(by='VIF', ascending=False)\n",
    "vif_sorted.head(15)"
   ]
  },
  {
   "cell_type": "markdown",
   "id": "XcPgMrmZrWfI",
   "metadata": {
    "id": "XcPgMrmZrWfI"
   },
   "source": [
    "**Dropping Highly correlated and high VIF columns**"
   ]
  },
  {
   "cell_type": "code",
   "execution_count": null,
   "id": "qSBp_YwgdIWX",
   "metadata": {
    "id": "qSBp_YwgdIWX"
   },
   "outputs": [],
   "source": [
    "X_train3 = X_train2.drop(['mvar10', 'mvar32', 'mvar28', 'mvar39', 'mvar16_19'], axis=1)\n",
    "X_test3 = X_test2.drop(['mvar10', 'mvar32', 'mvar28', 'mvar39', 'mvar16_19'], axis=1)"
   ]
  },
  {
   "cell_type": "code",
   "execution_count": null,
   "id": "Ejw32UKvymSi",
   "metadata": {
    "colab": {
     "base_uri": "https://localhost:8080/"
    },
    "id": "Ejw32UKvymSi",
    "outputId": "c1d1111b-394b-419a-eb55-e29d876db85b"
   },
   "outputs": [],
   "source": [
    "X_train3.info()"
   ]
  },
  {
   "cell_type": "code",
   "execution_count": null,
   "id": "4qFB9XxZrbcY",
   "metadata": {
    "id": "4qFB9XxZrbcY"
   },
   "outputs": [],
   "source": [
    "X_train3_1 = X_train3.replace([np.inf, -np.inf], 0)\n",
    "X_test3_1 = X_test3.replace([np.inf, -np.inf], 0)"
   ]
  },
  {
   "cell_type": "markdown",
   "id": "de1a331c",
   "metadata": {
    "id": "de1a331c"
   },
   "source": [
    "**Scaling and normalisation**"
   ]
  },
  {
   "cell_type": "markdown",
   "id": "94170c28",
   "metadata": {
    "id": "94170c28"
   },
   "source": [
    "it is necessary because we will be using knn imputation as well as SMOTE for oversampling, which is also based on KNN methodology. For this reason, we need to scale the data so that higher magnitudes don't led to formation of clusters when using KNN."
   ]
  },
  {
   "cell_type": "markdown",
   "id": "1KUaXyITfxlx",
   "metadata": {
    "id": "1KUaXyITfxlx"
   },
   "source": [
    "*Standardization*\n"
   ]
  },
  {
   "cell_type": "code",
   "execution_count": null,
   "id": "360a71f0",
   "metadata": {
    "id": "360a71f0"
   },
   "outputs": [],
   "source": [
    "# importing sklearn StandardScaler class which is for Standardization\n",
    "#from sklearn.preprocessing import StandardScaler\n",
    "\n",
    "#sc = StandardScaler() # creating an instance of the class object"
   ]
  },
  {
   "cell_type": "markdown",
   "id": "fxYk3rTMh2dt",
   "metadata": {
    "id": "fxYk3rTMh2dt"
   },
   "source": [
    "*Robust Scaling*"
   ]
  },
  {
   "cell_type": "code",
   "execution_count": null,
   "id": "rkaU4ezuhnsS",
   "metadata": {
    "id": "rkaU4ezuhnsS"
   },
   "outputs": [],
   "source": [
    "# importing sklearn Min Max Scaler class which is for Robust scaling\n",
    "from sklearn.preprocessing import RobustScaler\n",
    "\n",
    "rs = RobustScaler() # creating an instance of the class object\n",
    "X_tr_sc = rs.fit_transform(X_train3_1)\n",
    "X_te_sc = rs.fit_transform(X_test3_1)\n",
    "Xtrain_scaled = pd.DataFrame(X_tr_sc, columns=X_train3_1.columns)\n",
    "Xtest_scaled = pd.DataFrame(X_te_sc, columns=X_test3_1.columns)"
   ]
  },
  {
   "cell_type": "markdown",
   "id": "iWFHdAoBg9WJ",
   "metadata": {
    "id": "iWFHdAoBg9WJ"
   },
   "source": [
    "**Imputing NULL values**"
   ]
  },
  {
   "cell_type": "code",
   "execution_count": null,
   "id": "zfxi0w6z2nE1",
   "metadata": {
    "id": "zfxi0w6z2nE1"
   },
   "outputs": [],
   "source": [
    "Xtrain_scaled1 = Xtrain_scaled.dropna(how=\"all\")\n",
    "Xtest_scaled1 = Xtest_scaled.dropna(how=\"all\")"
   ]
  },
  {
   "cell_type": "code",
   "execution_count": null,
   "id": "6b50329e",
   "metadata": {
    "id": "6b50329e"
   },
   "outputs": [],
   "source": [
    "from sklearn.impute import KNNImputer\n",
    "\n",
    "imputer = KNNImputer(n_neighbors=5, weights='distance')\n",
    "imputed_1 = imputer.fit_transform(Xtrain_scaled1)\n",
    "X_train3 = pd.DataFrame(imputed_1, columns=Xtrain_scaled1.columns)\n",
    "\n",
    "imputed_2 = imputer.fit_transform(Xtest_scaled1)\n",
    "X_test3 = pd.DataFrame(imputed_2, columns=Xtest_scaled1.columns)"
   ]
  },
  {
   "cell_type": "code",
   "execution_count": null,
   "id": "1_HV_G9L6SDb",
   "metadata": {
    "id": "1_HV_G9L6SDb"
   },
   "outputs": [],
   "source": [
    "X_train4 = X_train3.drop('mvar47_C', axis=1)"
   ]
  },
  {
   "cell_type": "code",
   "execution_count": null,
   "id": "z2NrArriw2Bs",
   "metadata": {
    "id": "z2NrArriw2Bs"
   },
   "outputs": [],
   "source": [
    "X_test4 = X_test3.drop('mvar47_C', axis=1)"
   ]
  },
  {
   "cell_type": "markdown",
   "id": "B4VyzLXBisbt",
   "metadata": {
    "id": "B4VyzLXBisbt"
   },
   "source": [
    "# **Model Building**"
   ]
  },
  {
   "cell_type": "code",
   "execution_count": null,
   "id": "f1e0fb12",
   "metadata": {
    "id": "f1e0fb12"
   },
   "outputs": [],
   "source": [
    "from sklearn.metrics import auc, average_precision_score\n",
    "from sklearn.metrics import precision_recall_curve"
   ]
  },
  {
   "cell_type": "code",
   "execution_count": null,
   "id": "MewnLIgOKmKl",
   "metadata": {
    "id": "MewnLIgOKmKl"
   },
   "outputs": [],
   "source": [
    "#df_new2.to_csv(\"cleaned_data.csv\")  # downloaded the data so that we don't waste time in imputation next time"
   ]
  },
  {
   "cell_type": "markdown",
   "id": "q_90s5SH6b1t",
   "metadata": {
    "id": "q_90s5SH6b1t"
   },
   "source": [
    "#### **Dataset Balancing using SMOTETOMEK**"
   ]
  },
  {
   "cell_type": "code",
   "execution_count": null,
   "id": "rkrGtknVYlop",
   "metadata": {
    "colab": {
     "base_uri": "https://localhost:8080/"
    },
    "id": "rkrGtknVYlop",
    "outputId": "caf913c5-fbe8-498a-b05e-8e6db004beeb"
   },
   "outputs": [],
   "source": [
    "# Since our classes are highly skewed we should make them equivalent in order to have a normal \n",
    "# distribution of the classes.\n",
    "\n",
    "from imblearn.combine import SMOTETomek \n",
    "smt = SMOTETomek(sampling_strategy=0.999, random_state=45, n_jobs=-1)\n",
    "X_sampled1, Y_sampled1 = smt.fit_resample(X_train4, Y_train)\n",
    "\n",
    "X_sampled1.shape"
   ]
  },
  {
   "cell_type": "markdown",
   "id": "-Uj2jNVb7zKg",
   "metadata": {
    "id": "-Uj2jNVb7zKg"
   },
   "source": [
    "**Model Comparison**"
   ]
  },
  {
   "cell_type": "code",
   "execution_count": null,
   "id": "g6_BDUzXyvwC",
   "metadata": {
    "colab": {
     "base_uri": "https://localhost:8080/",
     "height": 1000
    },
    "id": "g6_BDUzXyvwC",
    "outputId": "23530b66-b909-445a-f918-bdb7d7883e2a"
   },
   "outputs": [],
   "source": [
    "from sklearn .metrics import roc_auc_score\n",
    "\n",
    "LightGBM1 = lgb.LGBMClassifier(num_leaves=15, max_depth=10, learning_rate=0.1, n_estimators=100, random_state=42)\n",
    "LightGBM1.fit(X_sampled1, Y_sampled1)\n",
    "Y_pred = LightGBM1.predict(X_test4)\n",
    "score_lgbm = roc_auc_score(y_test, Y_pred)\n",
    "\n",
    "sgd1 = linear_model.SGDClassifier(max_iter=5, tol=None)\n",
    "sgd1.fit(X_sampled1, Y_sampled1)\n",
    "Y_pred = sgd1.predict(X_test4)\n",
    "score_sgd = roc_auc_score(y_test, Y_pred)\n",
    "\n",
    "logreg = LogisticRegression(max_iter=10000)\n",
    "logreg.fit(X_sampled1, Y_sampled1)\n",
    "Y_pred = logreg.predict(X_test4)\n",
    "score_log = roc_auc_score(y_test, Y_pred)\n",
    "\n",
    "knn1 = KNeighborsClassifier(n_neighbors = 3) \n",
    "knn1.fit(X_sampled1, Y_sampled1)  \n",
    "Y_pred = knn1.predict(X_test4)  \n",
    "score_knn = roc_auc_score(y_test, Y_pred)\n",
    "\n",
    "gaussian1 = GaussianNB() \n",
    "gaussian1.fit(X_sampled1, Y_sampled1)  \n",
    "Y_pred = gaussian1.predict(X_test4)\n",
    "score_gaussian = roc_auc_score(y_test, Y_pred)\n",
    "\n",
    "perceptron1 = Perceptron(max_iter=100)\n",
    "perceptron1.fit(X_sampled1, Y_sampled1)\n",
    "Y_pred = perceptron1.predict(X_test4)\n",
    "score_perceptron = roc_auc_score(y_test, Y_pred)\n",
    "\n",
    "decision_tree1 = DecisionTreeClassifier() \n",
    "decision_tree1.fit(X_sampled1, Y_sampled1)  \n",
    "Y_pred = decision_tree1.predict(X_test4)  \n",
    "score_decision_tree = roc_auc_score(y_test, Y_pred)\n",
    "\n",
    "random_forest1 = RandomForestClassifier(max_depth=50, max_features=10, min_samples_split=10,\n",
    "                                       min_samples_leaf=5, bootstrap=True, n_estimators=150, criterion=\"gini\")\n",
    "random_forest1.fit(X_sampled1, Y_sampled1)\n",
    "Y_pred = random_forest1.predict(X_test4)\n",
    "score_random_forest = roc_auc_score(y_test, Y_pred)\n",
    "\n",
    "AdaBoost1 = AdaBoostClassifier(n_estimators=100, learning_rate=0.8, random_state=42)\n",
    "AdaBoost1.fit(X_sampled1, Y_sampled1)\n",
    "Y_pred = AdaBoost1.predict(X_test4)\n",
    "score_AdaBoost = roc_auc_score(y_test, Y_pred)\n",
    "\n",
    "XGBoost1 = XGBClassifier(base_score=0.5, gamma=1, learning_rate=0.15, min_child_weight=1, \n",
    "                         n_estimators=150, scale_pos_weight=3, subsample=0.8)\n",
    "XGBoost1.fit(X_sampled1, Y_sampled1)\n",
    "Y_pred = XGBoost1.predict(X_test4)\n",
    "score_XGBoost = roc_auc_score(y_test, Y_pred)\n",
    "\n",
    "CatBoost1 = CatBoostClassifier(depth=9, iterations=1500, learning_rate=0.05)\n",
    "CatBoost1.fit(X_sampled1, Y_sampled1)\n",
    "Y_pred = CatBoost1.predict(X_test4)\n",
    "score_CatBoost = roc_auc_score(y_test, Y_pred)\n",
    "\n",
    "from sklearn.neural_network import MLPClassifier\n",
    "\n",
    "MLPClassifier = MLPClassifier()\n",
    "MLPClassifier.fit(X_sampled1, Y_sampled1)\n",
    "Y_pred = MLPClassifier.predict(X_test4)\n",
    "score_MLPClassifier = roc_auc_score(y_test, Y_pred)\n",
    "\n",
    "# comparing all the models\n",
    "\n",
    "results = pd.DataFrame({\n",
    "    'Model': ['KNN', 'Logistic Regression','Random Forest', 'Naive Bayes', 'Perceptron', \n",
    "              'Stochastic Gradient Decent','Decision Tree', 'XG Boost', 'AdaBoost', 'Neural Network', 'Cat Boost', 'Light GBM'],\n",
    "    'ROC-AUC': [score_knn, score_log, score_random_forest, score_gaussian, score_perceptron, score_sgd, \n",
    "              score_decision_tree, score_XGBoost, score_AdaBoost, score_MLPClassifier, score_CatBoost, score_lgbm]})\n",
    "result_df = results.sort_values(by='ROC-AUC', ascending=False)\n",
    "result_df = result_df.set_index('ROC-AUC')\n",
    "result_df"
   ]
  },
  {
   "cell_type": "code",
   "execution_count": null,
   "id": "Wzb0TwGQdTMp",
   "metadata": {
    "colab": {
     "base_uri": "https://localhost:8080/"
    },
    "id": "Wzb0TwGQdTMp",
    "outputId": "04ba57ad-d25e-4234-d87c-40f92d22c519"
   },
   "outputs": [],
   "source": [
    "from sklearn.metrics import accuracy_score\n",
    "\n",
    "y_true = y_test\n",
    "y_pred = logreg.predict(X_test4)\n",
    "print('LR_model: recall:', recall_score(y_true, y_pred))\n",
    "print('LR_model: precision:',precision_score(y_true, y_pred))\n",
    "print('LR_model: F1 Score:', f1_score(y_true, y_pred))\n",
    "print('LR_model: accuracy:', accuracy_score(y_true, y_pred))"
   ]
  },
  {
   "cell_type": "code",
   "execution_count": null,
   "id": "4TO0RxGmSBoz",
   "metadata": {
    "colab": {
     "base_uri": "https://localhost:8080/"
    },
    "id": "4TO0RxGmSBoz",
    "outputId": "cd079eea-5c20-48e7-c9bd-d7091f04633a"
   },
   "outputs": [],
   "source": [
    "#Hyperparameter tuning of logistic regression\n",
    "\n",
    "from sklearn import linear_model, decomposition, datasets\n",
    "from sklearn.pipeline import Pipeline\n",
    "from sklearn.model_selection import GridSearchCV\n",
    "from sklearn.model_selection import RepeatedStratifiedKFold\n",
    "\n",
    "# define models and parameters\n",
    "solvers = ['newton-cg', 'lbfgs', 'liblinear']\n",
    "penalty = ['l2']\n",
    "c_values = [100, 10, 1.0, 0.1, 0.01]\n",
    "# define grid search\n",
    "grid = dict(solver=solvers,penalty=penalty,C=c_values)\n",
    "cv = RepeatedStratifiedKFold(n_splits=10, n_repeats=3, random_state=1)\n",
    "grid_search = GridSearchCV(estimator=logreg, param_grid=grid, n_jobs=-1, cv=cv, scoring='accuracy',error_score=0)\n",
    "grid_result = grid_search.fit(X_sampled1, Y_sampled1)"
   ]
  },
  {
   "cell_type": "code",
   "execution_count": null,
   "id": "uDkMrw_uSC7G",
   "metadata": {
    "id": "uDkMrw_uSC7G"
   },
   "outputs": [],
   "source": [
    "print(\"Best: %f using %s\" % (grid_result.best_score_, grid_result.best_params_))"
   ]
  },
  {
   "cell_type": "code",
   "execution_count": null,
   "id": "IYRGDsNlSC35",
   "metadata": {
    "id": "IYRGDsNlSC35"
   },
   "outputs": [],
   "source": [
    "y_true = y_test\n",
    "y_pred = grid_result.predict(X_test4)\n",
    "print('LR tuned model: recall:', recall_score(y_true, y_pred))\n",
    "print('LR tuned model: precision:',precision_score(y_true, y_pred))\n",
    "print('LR tuned model: F1 Score:', f1_score(y_true, y_pred))\n",
    "print('LR tuned model: accuracy:', accuracy_score(y_true, y_pred))"
   ]
  },
  {
   "cell_type": "markdown",
   "id": "LG-BD5TL7uee",
   "metadata": {
    "id": "LG-BD5TL7uee"
   },
   "source": [
    "#### **Dataset Balancing using SMOTEENN**"
   ]
  },
  {
   "cell_type": "code",
   "execution_count": null,
   "id": "733116dc",
   "metadata": {
    "id": "733116dc"
   },
   "outputs": [],
   "source": [
    "# Since our classes are highly skewed we should make them equivalent in order to have a normal \n",
    "# distribution of the classes.\n",
    "\n",
    "from imblearn.combine import SMOTEENN \n",
    "sme = SMOTEENN(sampling_strategy=0.999, random_state=45, n_jobs=-1)\n",
    "X_sampled2, Y_sampled2 = sme.fit_resample(X_train4, Y_train)\n",
    "X_sampled2.shape"
   ]
  },
  {
   "cell_type": "markdown",
   "id": "URoPPWAv75xV",
   "metadata": {
    "id": "URoPPWAv75xV"
   },
   "source": [
    "**Model Comparison**"
   ]
  },
  {
   "cell_type": "code",
   "execution_count": null,
   "id": "EGHSMl_EBX9W",
   "metadata": {
    "id": "EGHSMl_EBX9W"
   },
   "outputs": [],
   "source": [
    "LightGBM2 = lgb.LGBMClassifier(num_leaves=15, max_depth=10, learning_rate=0.1, n_estimators=100, random_state=42)\n",
    "LightGBM2.fit(X_sampled2, Y_sampled2)\n",
    "Y_pred = LightGBM2.predict(X_test4)\n",
    "score_lgbm = roc_auc_score(y_test, Y_pred)\n",
    "\n",
    "sgd = linear_model.SGDClassifier(max_iter=5, tol=None)\n",
    "sgd.fit(X_sampled2, Y_sampled2)\n",
    "Y_pred = sgd.predict(X_test4)\n",
    "score_sgd = roc_auc_score(y_test, Y_pred)\n",
    "\n",
    "logreg2 = LogisticRegression(max_iter=10000)\n",
    "logreg2.fit(X_sampled2, Y_sampled2)\n",
    "Y_pred = logreg2.predict(X_test4)\n",
    "score_log = roc_auc_score(y_test, Y_pred)\n",
    "\n",
    "knn = KNeighborsClassifier(n_neighbors = 3) \n",
    "knn.fit(X_sampled2, Y_sampled2)  \n",
    "Y_pred = knn.predict(X_test4)  \n",
    "score_knn = roc_auc_score(y_test, Y_pred)\n",
    "\n",
    "gaussian = GaussianNB() \n",
    "gaussian.fit(X_sampled2, Y_sampled2)  \n",
    "Y_pred = gaussian.predict(X_test4)\n",
    "score_gaussian = roc_auc_score(y_test, Y_pred)\n",
    "\n",
    "perceptron = Perceptron(max_iter=100)\n",
    "perceptron.fit(X_sampled2, Y_sampled2)\n",
    "Y_pred = perceptron.predict(X_test4)\n",
    "score_perceptron = roc_auc_score(y_test, Y_pred)\n",
    "\n",
    "decision_tree = DecisionTreeClassifier() \n",
    "decision_tree.fit(X_sampled2, Y_sampled2)  \n",
    "Y_pred = decision_tree.predict(X_test4)  \n",
    "score_decision_tree = roc_auc_score(y_test, Y_pred)\n",
    "\n",
    "random_forest2 = RandomForestClassifier(max_depth=50, max_features=10, min_samples_split=10,\n",
    "                                       min_samples_leaf=5, bootstrap=True, n_estimators=150, criterion=\"gini\")\n",
    "random_forest2.fit(X_sampled2, Y_sampled2)\n",
    "Y_pred = random_forest2.predict(X_test4)\n",
    "score_random_forest = roc_auc_score(y_test, Y_pred)\n",
    "\n",
    "AdaBoost2 = AdaBoostClassifier(n_estimators=100, learning_rate=0.8, random_state=42)\n",
    "AdaBoost2.fit(X_sampled2, Y_sampled2)\n",
    "Y_pred = AdaBoost2.predict(X_test4)\n",
    "score_AdaBoost = roc_auc_score(y_test, Y_pred)\n",
    "\n",
    "XGBoost2 = XGBClassifier(base_score=0.5, gamma=1, learning_rate=0.15, min_child_weight=1, \n",
    "                         n_estimators=150, scale_pos_weight=3, subsample=0.8)\n",
    "XGBoost2.fit(X_sampled2, Y_sampled2)\n",
    "Y_pred = XGBoost2.predict(X_test4)\n",
    "score_XGBoost = roc_auc_score(y_test, Y_pred)\n",
    "\n",
    "CatBoost2 = CatBoostClassifier(depth=9, iterations=1500, learning_rate=0.05)\n",
    "CatBoost2.fit(X_sampled2, Y_sampled2)\n",
    "Y_pred = CatBoost2.predict(X_test4)\n",
    "score_CatBoost = roc_auc_score(y_test, Y_pred)\n",
    "\n",
    "# comparing all the models\n",
    "\n",
    "results = pd.DataFrame({\n",
    "    'Model': ['KNN', 'Logistic Regression','Random Forest', 'Naive Bayes', 'Perceptron', \n",
    "              'Stochastic Gradient Decent','Decision Tree', 'XG Boost', 'AdaBoost', 'Cat Boost', 'Light GBM'],\n",
    "    'ROC-AUC': [score_knn, score_log, score_random_forest, score_gaussian, score_perceptron, score_sgd, \n",
    "              score_decision_tree, score_XGBoost, score_AdaBoost, score_CatBoost, score_lgbm]})\n",
    "result_df = results.sort_values(by='ROC-AUC', ascending=False)\n",
    "result_df = result_df.set_index('ROC-AUC')\n",
    "result_df"
   ]
  },
  {
   "cell_type": "code",
   "execution_count": null,
   "id": "Fv5fJt5EK4Ar",
   "metadata": {
    "id": "Fv5fJt5EK4Ar"
   },
   "outputs": [],
   "source": [
    "y_true = y_test\n",
    "y_pred = random_forest2.predict(X_test4)\n",
    "print('rf_model: recall:', recall_score(y_true, y_pred))\n",
    "print('rf_model: precision:',precision_score(y_true, y_pred))\n",
    "print('rf_model: F1 Score:', f1_score(y_true, y_pred))\n",
    "print('rf_model: accuracy:', accuracy_score(y_true, y_pred))"
   ]
  },
  {
   "cell_type": "code",
   "execution_count": null,
   "id": "2iWQqF6yWpS3",
   "metadata": {
    "id": "2iWQqF6yWpS3"
   },
   "outputs": [],
   "source": []
  },
  {
   "cell_type": "markdown",
   "id": "WrNsU4MbjqpR",
   "metadata": {
    "id": "WrNsU4MbjqpR"
   },
   "source": [
    "# **Working on COMPANY PROVIDED TEST DATA**"
   ]
  },
  {
   "cell_type": "code",
   "execution_count": null,
   "id": "5eb9a9cb",
   "metadata": {
    "id": "5eb9a9cb"
   },
   "outputs": [],
   "source": [
    "test_df = pd.read_csv(\"testX.csv\")\n",
    "test_df1 = test_df.drop(['mvar47'], axis=1)\n",
    "test_df2 = test_df1.replace(to_replace =\"[a-zA-Z]+\", value = np.nan, regex = True)\n",
    "test_df2 = test_df2.astype('float')\n",
    "test_df2 = pd.concat([test_df2, test_df['mvar47']], axis=1)\n",
    "test_df2 = pd.get_dummies(test_df2, columns=['mvar47'])\n",
    "df = test_df2.drop('application_key', axis=1)"
   ]
  },
  {
   "cell_type": "code",
   "execution_count": null,
   "id": "kXQqNmNsSP4P",
   "metadata": {
    "id": "kXQqNmNsSP4P"
   },
   "outputs": [],
   "source": [
    "df['mvar7'] = df['mvar7'] + df['mvar8'] \n",
    "df['mvar11_12'] = df['mvar11']/df['mvar12'] \n",
    "mvar161718 = (df['mvar16'].add(df['mvar17'], fill_value=0)).add(df['mvar18'], fill_value=0)\n",
    "df['mvar16'] = mvar161718\n",
    "df['mvar19'] = df['mvar19'] + df['mvar20'] \n",
    "df['mvar16_19'] = df['mvar16']/df['mvar19'] \n",
    "df['mvar26'] = (df['mvar26']+df['mvar27'])\n",
    "df['mvar30'] = df['mvar30'] + df['mvar31']\n",
    "df['mvar30_32'] = (df['mvar30']/30) / df['mvar32']\n",
    "df['mvar35'] = df['mvar35'] + df['mvar34']\n",
    "df['mvar28_36'] = df['mvar28'] / df['mvar36']\n",
    "df['mvar22_38'] = (df['mvar22']/100) * df['mvar38']\n",
    "df['mvar39_36'] = df['mvar39'] / df['mvar36']\n",
    "df['mvar34_39'] = df['mvar34'] / df['mvar39']\n",
    "df['mvar43_36'] = df['mvar43'] / df['mvar36']\n",
    "df['mvar43_38'] = df['mvar43'] / df['mvar38']\n",
    "df['mvar45'] = (df['mvar45'] + df['mvar46'])\n",
    "df.replace([np.inf, -np.inf], np.nan, inplace=True)"
   ]
  },
  {
   "cell_type": "code",
   "execution_count": null,
   "id": "GGYD156CSP4T",
   "metadata": {
    "id": "GGYD156CSP4T"
   },
   "outputs": [],
   "source": [
    "#Since we have combined certain columns, we need to drop those which are already considered in the combination.\n",
    "\n",
    "df1 = df.drop(['mvar8', 'mvar17', 'mvar18', 'mvar20', 'mvar22', 'mvar27', 'mvar31', 'mvar34', 'mvar38', \n",
    "                         'mvar46', 'mvar48', 'mvar49'], axis=1)"
   ]
  },
  {
   "cell_type": "code",
   "execution_count": null,
   "id": "7olnDMrTSP4U",
   "metadata": {
    "id": "7olnDMrTSP4U"
   },
   "outputs": [],
   "source": [
    "# dropping columns which have > 70% NULL values\n",
    "df2 = df1.drop(['mvar30_32', 'mvar34_39', 'mvar30', 'mvar40'], axis=1)"
   ]
  },
  {
   "cell_type": "markdown",
   "id": "SeFqhuUKSP4X",
   "metadata": {
    "id": "SeFqhuUKSP4X"
   },
   "source": [
    "**Dropping Highly correlated and high VIF columns**"
   ]
  },
  {
   "cell_type": "code",
   "execution_count": null,
   "id": "Df1f1fftSP4X",
   "metadata": {
    "id": "Df1f1fftSP4X"
   },
   "outputs": [],
   "source": [
    "df3 = df2.drop(['mvar10', 'mvar32', 'mvar28', 'mvar39', 'mvar16_19'], axis=1)"
   ]
  },
  {
   "cell_type": "code",
   "execution_count": null,
   "id": "2wHeL4r6SP4X",
   "metadata": {
    "id": "2wHeL4r6SP4X"
   },
   "outputs": [],
   "source": [
    "df4 = df3.replace([np.inf, -np.inf], 0)"
   ]
  },
  {
   "cell_type": "markdown",
   "id": "aZVyZYVPSP4X",
   "metadata": {
    "id": "aZVyZYVPSP4X"
   },
   "source": [
    "**Scaling and normalisation**"
   ]
  },
  {
   "cell_type": "markdown",
   "id": "odrB3jsCSP4Y",
   "metadata": {
    "id": "odrB3jsCSP4Y"
   },
   "source": [
    "it is necessary because we will be using knn imputation as well as SMOTE for oversampling, which is also based on KNN methodology. For this reason, we need to scale the data so that higher magnitudes don't led to formation of clusters when using KNN."
   ]
  },
  {
   "cell_type": "markdown",
   "id": "LgGchIGiSP4Y",
   "metadata": {
    "id": "LgGchIGiSP4Y"
   },
   "source": [
    "*Standardization*\n"
   ]
  },
  {
   "cell_type": "code",
   "execution_count": null,
   "id": "yVQMsljqSP4Y",
   "metadata": {
    "id": "yVQMsljqSP4Y"
   },
   "outputs": [],
   "source": [
    "# importing sklearn StandardScaler class which is for Standardization\n",
    "#from sklearn.preprocessing import StandardScaler\n",
    "\n",
    "#sc = StandardScaler() # creating an instance of the class object"
   ]
  },
  {
   "cell_type": "markdown",
   "id": "lesEIimFSP4Y",
   "metadata": {
    "id": "lesEIimFSP4Y"
   },
   "source": [
    "*Robust Scaling*"
   ]
  },
  {
   "cell_type": "code",
   "execution_count": null,
   "id": "ZJiSLcwcSP4Y",
   "metadata": {
    "id": "ZJiSLcwcSP4Y"
   },
   "outputs": [],
   "source": [
    "# importing sklearn Min Max Scaler class which is for Robust scaling\n",
    "from sklearn.preprocessing import RobustScaler\n",
    "\n",
    "rs = RobustScaler() # creating an instance of the class object\n",
    "df_sc = rs.fit_transform(df4)\n",
    "df_scaled = pd.DataFrame(df_sc, columns=df4.columns)"
   ]
  },
  {
   "cell_type": "markdown",
   "id": "8b1T0d_pSP4Z",
   "metadata": {
    "id": "8b1T0d_pSP4Z"
   },
   "source": [
    "**Imputing NULL values**"
   ]
  },
  {
   "cell_type": "code",
   "execution_count": null,
   "id": "FpPs_Sh2SP4Z",
   "metadata": {
    "id": "FpPs_Sh2SP4Z"
   },
   "outputs": [],
   "source": [
    "from sklearn.impute import KNNImputer\n",
    "\n",
    "imputer = KNNImputer(n_neighbors=5, weights='distance')\n",
    "imputed = imputer.fit_transform(df_scaled)\n",
    "test_df4 = pd.DataFrame(imputed, columns=df_scaled.columns)"
   ]
  },
  {
   "cell_type": "code",
   "execution_count": null,
   "id": "H9ploMZ4zBEQ",
   "metadata": {
    "id": "H9ploMZ4zBEQ"
   },
   "outputs": [],
   "source": [
    "test_df4 = test_df4.drop('mvar47_C', axis=1)"
   ]
  },
  {
   "cell_type": "code",
   "execution_count": null,
   "id": "0fdHt2zOZ8rS",
   "metadata": {
    "colab": {
     "base_uri": "https://localhost:8080/",
     "height": 244
    },
    "id": "0fdHt2zOZ8rS",
    "outputId": "6ae2777b-8165-4450-e155-089a025d83c9"
   },
   "outputs": [],
   "source": [
    "# make predictions for test data\n",
    "X_test = test_df4\n",
    "y_pred = grid_result.predict(test_df4)\n",
    "\n",
    "new = pd.DataFrame(y_pred, columns=['predictions'])"
   ]
  },
  {
   "cell_type": "code",
   "execution_count": null,
   "id": "UR8K1-8caBoT",
   "metadata": {
    "id": "UR8K1-8caBoT"
   },
   "outputs": [],
   "source": [
    "new.insert(0, \"application_key\", test_df['application_key'])"
   ]
  },
  {
   "cell_type": "code",
   "execution_count": null,
   "id": "w2_IMZ-9_9qm",
   "metadata": {
    "id": "w2_IMZ-9_9qm"
   },
   "outputs": [],
   "source": [
    "new = new.reset_index(drop=True)"
   ]
  },
  {
   "cell_type": "code",
   "execution_count": null,
   "id": "r0Ks_e0F3J6p",
   "metadata": {
    "id": "r0Ks_e0F3J6p"
   },
   "outputs": [],
   "source": [
    "new.to_csv('Daring_souls_21.csv', index=False)"
   ]
  },
  {
   "cell_type": "code",
   "execution_count": null,
   "id": "4bGqH0AryASo",
   "metadata": {
    "id": "4bGqH0AryASo"
   },
   "outputs": [],
   "source": [
    "# Hyperparameter tuning of XGBoost Model\n",
    "from sklearn.model_selection import RandomizedSearchCV\n",
    "from sklearn.model_selection import RepeatedStratifiedKFold\n",
    "\n",
    "cv = RepeatedStratifiedKFold(n_splits=10, n_repeats=3, random_state=1)\n",
    "\n",
    "params = {\n",
    "    'n_estimators': [100, 200, 500],\n",
    "    'learning_rate': [0.01,0.05,0.1],\n",
    "    'booster': ['gbtree', 'gblinear'],\n",
    "    'gamma': [0, 0.5, 1],\n",
    "    'reg_alpha': [0, 0.5, 1],\n",
    "    'reg_lambda': [0.5, 1, 5],\n",
    "    'base_score': [0.2, 0.5, 1]\n",
    "    }\n",
    "\n",
    "gs2 = RandomizedSearchCV(XGBoost1, params, cv=cv, scoring='accuracy',verbose=5,n_jobs=-1)\n",
    "gs2.fit(X_sampled1, Y_sampled1)\n",
    "\n",
    "print('Best score:', gs2.best_score_)\n",
    "print('Best params:', gs2.best_params_)"
   ]
  }
 ],
 "metadata": {
  "colab": {
   "provenance": []
  },
  "kernelspec": {
   "display_name": "Python 3 (ipykernel)",
   "language": "python",
   "name": "python3"
  },
  "language_info": {
   "codemirror_mode": {
    "name": "ipython",
    "version": 3
   },
   "file_extension": ".py",
   "mimetype": "text/x-python",
   "name": "python",
   "nbconvert_exporter": "python",
   "pygments_lexer": "ipython3",
   "version": "3.9.7"
  }
 },
 "nbformat": 4,
 "nbformat_minor": 5
}
