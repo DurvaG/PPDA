{
 "cells": [
  {
   "cell_type": "code",
   "execution_count": 27,
   "metadata": {
    "_cell_guid": "b1076dfc-b9ad-4769-8c92-a6c4dae69d19",
    "_uuid": "8f2839f25d086af736a60e9eeb907d3b93b6e0e5",
    "execution": {
     "iopub.execute_input": "2022-10-16T16:55:54.206351Z",
     "iopub.status.busy": "2022-10-16T16:55:54.205954Z",
     "iopub.status.idle": "2022-10-16T16:55:54.216491Z",
     "shell.execute_reply": "2022-10-16T16:55:54.214687Z",
     "shell.execute_reply.started": "2022-10-16T16:55:54.206317Z"
    }
   },
   "outputs": [
    {
     "name": "stdout",
     "output_type": "stream",
     "text": [
      "/kaggle/input/npci-credit-card-default-risk-analysis/sample_submission.csv\n",
      "/kaggle/input/npci-credit-card-default-risk-analysis/train.csv\n",
      "/kaggle/input/npci-credit-card-default-risk-analysis/test.csv\n"
     ]
    }
   ],
   "source": [
    "# This Python 3 environment comes with many helpful analytics libraries installed\n",
    "# It is defined by the kaggle/python Docker image: https://github.com/kaggle/docker-python\n",
    "# For example, here's several helpful packages to load\n",
    "\n",
    "import numpy as np # linear algebra\n",
    "import pandas as pd # data processing, CSV file I/O (e.g. pd.read_csv)\n",
    "\n",
    "# Input data files are available in the read-only \"../input/\" directory\n",
    "# For example, running this (by clicking run or pressing Shift+Enter) will list all files under the input directory\n",
    "\n",
    "import os\n",
    "for dirname, _, filenames in os.walk('/kaggle/input'):\n",
    "    for filename in filenames:\n",
    "        print(os.path.join(dirname, filename))\n",
    "\n",
    "# You can write up to 20GB to the current directory (/kaggle/working/) that gets preserved as output when you create a version using \"Save & Run All\" \n",
    "# You can also write temporary files to /kaggle/temp/, but they won't be saved outside of the current session"
   ]
  },
  {
   "cell_type": "code",
   "execution_count": 28,
   "metadata": {
    "execution": {
     "iopub.execute_input": "2022-10-16T16:55:54.220724Z",
     "iopub.status.busy": "2022-10-16T16:55:54.219587Z",
     "iopub.status.idle": "2022-10-16T16:55:54.317661Z",
     "shell.execute_reply": "2022-10-16T16:55:54.316521Z",
     "shell.execute_reply.started": "2022-10-16T16:55:54.220669Z"
    }
   },
   "outputs": [],
   "source": [
    "import pandas as pd\n",
    "from sklearn import metrics \n",
    "from sklearn.ensemble import RandomForestClassifier\n",
    "test = pd.read_csv(\"../input/npci-credit-card-default-risk-analysis/test.csv\")\n",
    "train = pd.read_csv(\"../input/npci-credit-card-default-risk-analysis/train.csv\")"
   ]
  },
  {
   "cell_type": "code",
   "execution_count": 29,
   "metadata": {
    "execution": {
     "iopub.execute_input": "2022-10-16T16:55:54.319312Z",
     "iopub.status.busy": "2022-10-16T16:55:54.318962Z",
     "iopub.status.idle": "2022-10-16T16:55:54.327381Z",
     "shell.execute_reply": "2022-10-16T16:55:54.326277Z",
     "shell.execute_reply.started": "2022-10-16T16:55:54.319281Z"
    }
   },
   "outputs": [
    {
     "data": {
      "text/plain": [
       "(27000, 25)"
      ]
     },
     "execution_count": 29,
     "metadata": {},
     "output_type": "execute_result"
    }
   ],
   "source": [
    "train.shape"
   ]
  },
  {
   "cell_type": "code",
   "execution_count": 30,
   "metadata": {
    "execution": {
     "iopub.execute_input": "2022-10-16T16:55:54.330728Z",
     "iopub.status.busy": "2022-10-16T16:55:54.330340Z",
     "iopub.status.idle": "2022-10-16T16:55:54.339344Z",
     "shell.execute_reply": "2022-10-16T16:55:54.338169Z",
     "shell.execute_reply.started": "2022-10-16T16:55:54.330692Z"
    }
   },
   "outputs": [
    {
     "data": {
      "text/plain": [
       "(3000, 24)"
      ]
     },
     "execution_count": 30,
     "metadata": {},
     "output_type": "execute_result"
    }
   ],
   "source": [
    "test.shape"
   ]
  },
  {
   "cell_type": "markdown",
   "metadata": {},
   "source": [
    "#  DATA ANALYSIS"
   ]
  },
  {
   "cell_type": "code",
   "execution_count": 31,
   "metadata": {
    "execution": {
     "iopub.execute_input": "2022-10-16T16:55:54.341277Z",
     "iopub.status.busy": "2022-10-16T16:55:54.340865Z",
     "iopub.status.idle": "2022-10-16T16:55:54.462164Z",
     "shell.execute_reply": "2022-10-16T16:55:54.460905Z",
     "shell.execute_reply.started": "2022-10-16T16:55:54.341242Z"
    }
   },
   "outputs": [
    {
     "data": {
      "text/html": [
       "<div>\n",
       "<style scoped>\n",
       "    .dataframe tbody tr th:only-of-type {\n",
       "        vertical-align: middle;\n",
       "    }\n",
       "\n",
       "    .dataframe tbody tr th {\n",
       "        vertical-align: top;\n",
       "    }\n",
       "\n",
       "    .dataframe thead th {\n",
       "        text-align: right;\n",
       "    }\n",
       "</style>\n",
       "<table border=\"1\" class=\"dataframe\">\n",
       "  <thead>\n",
       "    <tr style=\"text-align: right;\">\n",
       "      <th></th>\n",
       "      <th>ID</th>\n",
       "      <th>LIMIT_BAL</th>\n",
       "      <th>SEX</th>\n",
       "      <th>EDUCATION</th>\n",
       "      <th>MARRIAGE</th>\n",
       "      <th>AGE</th>\n",
       "      <th>PAY_0</th>\n",
       "      <th>PAY_2</th>\n",
       "      <th>PAY_3</th>\n",
       "      <th>PAY_4</th>\n",
       "      <th>...</th>\n",
       "      <th>BILL_AMT4</th>\n",
       "      <th>BILL_AMT5</th>\n",
       "      <th>BILL_AMT6</th>\n",
       "      <th>PAY_AMT1</th>\n",
       "      <th>PAY_AMT2</th>\n",
       "      <th>PAY_AMT3</th>\n",
       "      <th>PAY_AMT4</th>\n",
       "      <th>PAY_AMT5</th>\n",
       "      <th>PAY_AMT6</th>\n",
       "      <th>default payment next month</th>\n",
       "    </tr>\n",
       "  </thead>\n",
       "  <tbody>\n",
       "    <tr>\n",
       "      <th>count</th>\n",
       "      <td>27000.00000</td>\n",
       "      <td>27000.000000</td>\n",
       "      <td>27000.000000</td>\n",
       "      <td>27000.000000</td>\n",
       "      <td>27000.000000</td>\n",
       "      <td>27000.000000</td>\n",
       "      <td>27000.000000</td>\n",
       "      <td>27000.000000</td>\n",
       "      <td>27000.000000</td>\n",
       "      <td>27000.000000</td>\n",
       "      <td>...</td>\n",
       "      <td>27000.000000</td>\n",
       "      <td>27000.000000</td>\n",
       "      <td>27000.000000</td>\n",
       "      <td>27000.000000</td>\n",
       "      <td>2.700000e+04</td>\n",
       "      <td>27000.000000</td>\n",
       "      <td>27000.000000</td>\n",
       "      <td>27000.000000</td>\n",
       "      <td>27000.000000</td>\n",
       "      <td>27000.000000</td>\n",
       "    </tr>\n",
       "    <tr>\n",
       "      <th>mean</th>\n",
       "      <td>13499.50000</td>\n",
       "      <td>167720.728889</td>\n",
       "      <td>1.603222</td>\n",
       "      <td>1.851667</td>\n",
       "      <td>1.552963</td>\n",
       "      <td>35.486778</td>\n",
       "      <td>-0.015593</td>\n",
       "      <td>-0.132407</td>\n",
       "      <td>-0.167593</td>\n",
       "      <td>-0.219407</td>\n",
       "      <td>...</td>\n",
       "      <td>43323.950148</td>\n",
       "      <td>40387.517852</td>\n",
       "      <td>38937.254593</td>\n",
       "      <td>5696.015889</td>\n",
       "      <td>5.986320e+03</td>\n",
       "      <td>5263.971296</td>\n",
       "      <td>4866.874519</td>\n",
       "      <td>4831.716741</td>\n",
       "      <td>5215.986519</td>\n",
       "      <td>0.221370</td>\n",
       "    </tr>\n",
       "    <tr>\n",
       "      <th>std</th>\n",
       "      <td>7794.37297</td>\n",
       "      <td>129930.809212</td>\n",
       "      <td>0.489238</td>\n",
       "      <td>0.791893</td>\n",
       "      <td>0.522478</td>\n",
       "      <td>9.213408</td>\n",
       "      <td>1.127431</td>\n",
       "      <td>1.197978</td>\n",
       "      <td>1.192726</td>\n",
       "      <td>1.166120</td>\n",
       "      <td>...</td>\n",
       "      <td>64555.808717</td>\n",
       "      <td>60975.562843</td>\n",
       "      <td>59684.515387</td>\n",
       "      <td>16840.646208</td>\n",
       "      <td>2.377914e+04</td>\n",
       "      <td>18001.091009</td>\n",
       "      <td>16021.590858</td>\n",
       "      <td>15499.162587</td>\n",
       "      <td>17681.861320</td>\n",
       "      <td>0.415177</td>\n",
       "    </tr>\n",
       "    <tr>\n",
       "      <th>min</th>\n",
       "      <td>0.00000</td>\n",
       "      <td>10000.000000</td>\n",
       "      <td>1.000000</td>\n",
       "      <td>0.000000</td>\n",
       "      <td>0.000000</td>\n",
       "      <td>21.000000</td>\n",
       "      <td>-2.000000</td>\n",
       "      <td>-2.000000</td>\n",
       "      <td>-2.000000</td>\n",
       "      <td>-2.000000</td>\n",
       "      <td>...</td>\n",
       "      <td>-170000.000000</td>\n",
       "      <td>-81334.000000</td>\n",
       "      <td>-339603.000000</td>\n",
       "      <td>0.000000</td>\n",
       "      <td>0.000000e+00</td>\n",
       "      <td>0.000000</td>\n",
       "      <td>0.000000</td>\n",
       "      <td>0.000000</td>\n",
       "      <td>0.000000</td>\n",
       "      <td>0.000000</td>\n",
       "    </tr>\n",
       "    <tr>\n",
       "      <th>25%</th>\n",
       "      <td>6749.75000</td>\n",
       "      <td>50000.000000</td>\n",
       "      <td>1.000000</td>\n",
       "      <td>1.000000</td>\n",
       "      <td>1.000000</td>\n",
       "      <td>28.000000</td>\n",
       "      <td>-1.000000</td>\n",
       "      <td>-1.000000</td>\n",
       "      <td>-1.000000</td>\n",
       "      <td>-1.000000</td>\n",
       "      <td>...</td>\n",
       "      <td>2384.500000</td>\n",
       "      <td>1780.000000</td>\n",
       "      <td>1270.750000</td>\n",
       "      <td>1000.000000</td>\n",
       "      <td>8.710000e+02</td>\n",
       "      <td>390.000000</td>\n",
       "      <td>298.000000</td>\n",
       "      <td>259.000000</td>\n",
       "      <td>130.000000</td>\n",
       "      <td>0.000000</td>\n",
       "    </tr>\n",
       "    <tr>\n",
       "      <th>50%</th>\n",
       "      <td>13499.50000</td>\n",
       "      <td>140000.000000</td>\n",
       "      <td>2.000000</td>\n",
       "      <td>2.000000</td>\n",
       "      <td>2.000000</td>\n",
       "      <td>34.000000</td>\n",
       "      <td>0.000000</td>\n",
       "      <td>0.000000</td>\n",
       "      <td>0.000000</td>\n",
       "      <td>0.000000</td>\n",
       "      <td>...</td>\n",
       "      <td>19078.500000</td>\n",
       "      <td>18135.000000</td>\n",
       "      <td>17135.000000</td>\n",
       "      <td>2100.000000</td>\n",
       "      <td>2.013000e+03</td>\n",
       "      <td>1800.000000</td>\n",
       "      <td>1500.000000</td>\n",
       "      <td>1500.000000</td>\n",
       "      <td>1500.000000</td>\n",
       "      <td>0.000000</td>\n",
       "    </tr>\n",
       "    <tr>\n",
       "      <th>75%</th>\n",
       "      <td>20249.25000</td>\n",
       "      <td>240000.000000</td>\n",
       "      <td>2.000000</td>\n",
       "      <td>2.000000</td>\n",
       "      <td>2.000000</td>\n",
       "      <td>41.000000</td>\n",
       "      <td>0.000000</td>\n",
       "      <td>0.000000</td>\n",
       "      <td>0.000000</td>\n",
       "      <td>0.000000</td>\n",
       "      <td>...</td>\n",
       "      <td>54345.500000</td>\n",
       "      <td>50149.000000</td>\n",
       "      <td>49205.250000</td>\n",
       "      <td>5012.000000</td>\n",
       "      <td>5.000000e+03</td>\n",
       "      <td>4532.250000</td>\n",
       "      <td>4010.000000</td>\n",
       "      <td>4051.000000</td>\n",
       "      <td>4000.000000</td>\n",
       "      <td>0.000000</td>\n",
       "    </tr>\n",
       "    <tr>\n",
       "      <th>max</th>\n",
       "      <td>26999.00000</td>\n",
       "      <td>1000000.000000</td>\n",
       "      <td>2.000000</td>\n",
       "      <td>6.000000</td>\n",
       "      <td>3.000000</td>\n",
       "      <td>79.000000</td>\n",
       "      <td>8.000000</td>\n",
       "      <td>8.000000</td>\n",
       "      <td>8.000000</td>\n",
       "      <td>8.000000</td>\n",
       "      <td>...</td>\n",
       "      <td>891586.000000</td>\n",
       "      <td>927171.000000</td>\n",
       "      <td>961664.000000</td>\n",
       "      <td>873552.000000</td>\n",
       "      <td>1.684259e+06</td>\n",
       "      <td>896040.000000</td>\n",
       "      <td>621000.000000</td>\n",
       "      <td>426529.000000</td>\n",
       "      <td>527143.000000</td>\n",
       "      <td>1.000000</td>\n",
       "    </tr>\n",
       "  </tbody>\n",
       "</table>\n",
       "<p>8 rows × 25 columns</p>\n",
       "</div>"
      ],
      "text/plain": [
       "                ID       LIMIT_BAL           SEX     EDUCATION      MARRIAGE  \\\n",
       "count  27000.00000    27000.000000  27000.000000  27000.000000  27000.000000   \n",
       "mean   13499.50000   167720.728889      1.603222      1.851667      1.552963   \n",
       "std     7794.37297   129930.809212      0.489238      0.791893      0.522478   \n",
       "min        0.00000    10000.000000      1.000000      0.000000      0.000000   \n",
       "25%     6749.75000    50000.000000      1.000000      1.000000      1.000000   \n",
       "50%    13499.50000   140000.000000      2.000000      2.000000      2.000000   \n",
       "75%    20249.25000   240000.000000      2.000000      2.000000      2.000000   \n",
       "max    26999.00000  1000000.000000      2.000000      6.000000      3.000000   \n",
       "\n",
       "                AGE         PAY_0         PAY_2         PAY_3         PAY_4  \\\n",
       "count  27000.000000  27000.000000  27000.000000  27000.000000  27000.000000   \n",
       "mean      35.486778     -0.015593     -0.132407     -0.167593     -0.219407   \n",
       "std        9.213408      1.127431      1.197978      1.192726      1.166120   \n",
       "min       21.000000     -2.000000     -2.000000     -2.000000     -2.000000   \n",
       "25%       28.000000     -1.000000     -1.000000     -1.000000     -1.000000   \n",
       "50%       34.000000      0.000000      0.000000      0.000000      0.000000   \n",
       "75%       41.000000      0.000000      0.000000      0.000000      0.000000   \n",
       "max       79.000000      8.000000      8.000000      8.000000      8.000000   \n",
       "\n",
       "       ...      BILL_AMT4      BILL_AMT5      BILL_AMT6       PAY_AMT1  \\\n",
       "count  ...   27000.000000   27000.000000   27000.000000   27000.000000   \n",
       "mean   ...   43323.950148   40387.517852   38937.254593    5696.015889   \n",
       "std    ...   64555.808717   60975.562843   59684.515387   16840.646208   \n",
       "min    ... -170000.000000  -81334.000000 -339603.000000       0.000000   \n",
       "25%    ...    2384.500000    1780.000000    1270.750000    1000.000000   \n",
       "50%    ...   19078.500000   18135.000000   17135.000000    2100.000000   \n",
       "75%    ...   54345.500000   50149.000000   49205.250000    5012.000000   \n",
       "max    ...  891586.000000  927171.000000  961664.000000  873552.000000   \n",
       "\n",
       "           PAY_AMT2       PAY_AMT3       PAY_AMT4       PAY_AMT5  \\\n",
       "count  2.700000e+04   27000.000000   27000.000000   27000.000000   \n",
       "mean   5.986320e+03    5263.971296    4866.874519    4831.716741   \n",
       "std    2.377914e+04   18001.091009   16021.590858   15499.162587   \n",
       "min    0.000000e+00       0.000000       0.000000       0.000000   \n",
       "25%    8.710000e+02     390.000000     298.000000     259.000000   \n",
       "50%    2.013000e+03    1800.000000    1500.000000    1500.000000   \n",
       "75%    5.000000e+03    4532.250000    4010.000000    4051.000000   \n",
       "max    1.684259e+06  896040.000000  621000.000000  426529.000000   \n",
       "\n",
       "            PAY_AMT6  default payment next month  \n",
       "count   27000.000000                27000.000000  \n",
       "mean     5215.986519                    0.221370  \n",
       "std     17681.861320                    0.415177  \n",
       "min         0.000000                    0.000000  \n",
       "25%       130.000000                    0.000000  \n",
       "50%      1500.000000                    0.000000  \n",
       "75%      4000.000000                    0.000000  \n",
       "max    527143.000000                    1.000000  \n",
       "\n",
       "[8 rows x 25 columns]"
      ]
     },
     "execution_count": 31,
     "metadata": {},
     "output_type": "execute_result"
    }
   ],
   "source": [
    "train.describe()"
   ]
  },
  {
   "cell_type": "code",
   "execution_count": 32,
   "metadata": {
    "execution": {
     "iopub.execute_input": "2022-10-16T16:55:54.464370Z",
     "iopub.status.busy": "2022-10-16T16:55:54.463863Z",
     "iopub.status.idle": "2022-10-16T16:55:54.482735Z",
     "shell.execute_reply": "2022-10-16T16:55:54.481672Z",
     "shell.execute_reply.started": "2022-10-16T16:55:54.464337Z"
    }
   },
   "outputs": [
    {
     "data": {
      "text/html": [
       "<div>\n",
       "<style scoped>\n",
       "    .dataframe tbody tr th:only-of-type {\n",
       "        vertical-align: middle;\n",
       "    }\n",
       "\n",
       "    .dataframe tbody tr th {\n",
       "        vertical-align: top;\n",
       "    }\n",
       "\n",
       "    .dataframe thead th {\n",
       "        text-align: right;\n",
       "    }\n",
       "</style>\n",
       "<table border=\"1\" class=\"dataframe\">\n",
       "  <thead>\n",
       "    <tr style=\"text-align: right;\">\n",
       "      <th></th>\n",
       "      <th>ID</th>\n",
       "      <th>LIMIT_BAL</th>\n",
       "      <th>SEX</th>\n",
       "      <th>EDUCATION</th>\n",
       "      <th>MARRIAGE</th>\n",
       "      <th>AGE</th>\n",
       "      <th>PAY_0</th>\n",
       "      <th>PAY_2</th>\n",
       "      <th>PAY_3</th>\n",
       "      <th>PAY_4</th>\n",
       "      <th>...</th>\n",
       "      <th>BILL_AMT4</th>\n",
       "      <th>BILL_AMT5</th>\n",
       "      <th>BILL_AMT6</th>\n",
       "      <th>PAY_AMT1</th>\n",
       "      <th>PAY_AMT2</th>\n",
       "      <th>PAY_AMT3</th>\n",
       "      <th>PAY_AMT4</th>\n",
       "      <th>PAY_AMT5</th>\n",
       "      <th>PAY_AMT6</th>\n",
       "      <th>default payment next month</th>\n",
       "    </tr>\n",
       "  </thead>\n",
       "  <tbody>\n",
       "    <tr>\n",
       "      <th>0</th>\n",
       "      <td>0</td>\n",
       "      <td>100000</td>\n",
       "      <td>2</td>\n",
       "      <td>2</td>\n",
       "      <td>2</td>\n",
       "      <td>26</td>\n",
       "      <td>-1</td>\n",
       "      <td>-1</td>\n",
       "      <td>-1</td>\n",
       "      <td>0</td>\n",
       "      <td>...</td>\n",
       "      <td>3542</td>\n",
       "      <td>1980</td>\n",
       "      <td>3980</td>\n",
       "      <td>4210</td>\n",
       "      <td>4159</td>\n",
       "      <td>1000</td>\n",
       "      <td>1080</td>\n",
       "      <td>2000</td>\n",
       "      <td>1525</td>\n",
       "      <td>0</td>\n",
       "    </tr>\n",
       "    <tr>\n",
       "      <th>1</th>\n",
       "      <td>1</td>\n",
       "      <td>100000</td>\n",
       "      <td>1</td>\n",
       "      <td>2</td>\n",
       "      <td>1</td>\n",
       "      <td>47</td>\n",
       "      <td>0</td>\n",
       "      <td>0</td>\n",
       "      <td>2</td>\n",
       "      <td>0</td>\n",
       "      <td>...</td>\n",
       "      <td>64287</td>\n",
       "      <td>67838</td>\n",
       "      <td>66135</td>\n",
       "      <td>7000</td>\n",
       "      <td>0</td>\n",
       "      <td>2500</td>\n",
       "      <td>5500</td>\n",
       "      <td>0</td>\n",
       "      <td>3000</td>\n",
       "      <td>0</td>\n",
       "    </tr>\n",
       "    <tr>\n",
       "      <th>2</th>\n",
       "      <td>2</td>\n",
       "      <td>30000</td>\n",
       "      <td>2</td>\n",
       "      <td>2</td>\n",
       "      <td>2</td>\n",
       "      <td>23</td>\n",
       "      <td>3</td>\n",
       "      <td>3</td>\n",
       "      <td>3</td>\n",
       "      <td>3</td>\n",
       "      <td>...</td>\n",
       "      <td>29176</td>\n",
       "      <td>29958</td>\n",
       "      <td>30520</td>\n",
       "      <td>1200</td>\n",
       "      <td>1200</td>\n",
       "      <td>0</td>\n",
       "      <td>1400</td>\n",
       "      <td>1200</td>\n",
       "      <td>0</td>\n",
       "      <td>1</td>\n",
       "    </tr>\n",
       "    <tr>\n",
       "      <th>3</th>\n",
       "      <td>3</td>\n",
       "      <td>280000</td>\n",
       "      <td>2</td>\n",
       "      <td>1</td>\n",
       "      <td>2</td>\n",
       "      <td>31</td>\n",
       "      <td>2</td>\n",
       "      <td>-1</td>\n",
       "      <td>-1</td>\n",
       "      <td>-2</td>\n",
       "      <td>...</td>\n",
       "      <td>0</td>\n",
       "      <td>0</td>\n",
       "      <td>0</td>\n",
       "      <td>168</td>\n",
       "      <td>0</td>\n",
       "      <td>0</td>\n",
       "      <td>0</td>\n",
       "      <td>0</td>\n",
       "      <td>0</td>\n",
       "      <td>0</td>\n",
       "    </tr>\n",
       "    <tr>\n",
       "      <th>4</th>\n",
       "      <td>4</td>\n",
       "      <td>210000</td>\n",
       "      <td>1</td>\n",
       "      <td>2</td>\n",
       "      <td>1</td>\n",
       "      <td>54</td>\n",
       "      <td>2</td>\n",
       "      <td>-1</td>\n",
       "      <td>-1</td>\n",
       "      <td>-1</td>\n",
       "      <td>...</td>\n",
       "      <td>485</td>\n",
       "      <td>210</td>\n",
       "      <td>3483</td>\n",
       "      <td>176</td>\n",
       "      <td>195</td>\n",
       "      <td>485</td>\n",
       "      <td>0</td>\n",
       "      <td>4466</td>\n",
       "      <td>417</td>\n",
       "      <td>0</td>\n",
       "    </tr>\n",
       "  </tbody>\n",
       "</table>\n",
       "<p>5 rows × 25 columns</p>\n",
       "</div>"
      ],
      "text/plain": [
       "   ID  LIMIT_BAL  SEX  EDUCATION  MARRIAGE  AGE  PAY_0  PAY_2  PAY_3  PAY_4  \\\n",
       "0   0     100000    2          2         2   26     -1     -1     -1      0   \n",
       "1   1     100000    1          2         1   47      0      0      2      0   \n",
       "2   2      30000    2          2         2   23      3      3      3      3   \n",
       "3   3     280000    2          1         2   31      2     -1     -1     -2   \n",
       "4   4     210000    1          2         1   54      2     -1     -1     -1   \n",
       "\n",
       "   ...  BILL_AMT4  BILL_AMT5  BILL_AMT6  PAY_AMT1  PAY_AMT2  PAY_AMT3  \\\n",
       "0  ...       3542       1980       3980      4210      4159      1000   \n",
       "1  ...      64287      67838      66135      7000         0      2500   \n",
       "2  ...      29176      29958      30520      1200      1200         0   \n",
       "3  ...          0          0          0       168         0         0   \n",
       "4  ...        485        210       3483       176       195       485   \n",
       "\n",
       "   PAY_AMT4  PAY_AMT5  PAY_AMT6  default payment next month  \n",
       "0      1080      2000      1525                           0  \n",
       "1      5500         0      3000                           0  \n",
       "2      1400      1200         0                           1  \n",
       "3         0         0         0                           0  \n",
       "4         0      4466       417                           0  \n",
       "\n",
       "[5 rows x 25 columns]"
      ]
     },
     "execution_count": 32,
     "metadata": {},
     "output_type": "execute_result"
    }
   ],
   "source": [
    "train.head()"
   ]
  },
  {
   "cell_type": "code",
   "execution_count": 33,
   "metadata": {
    "execution": {
     "iopub.execute_input": "2022-10-16T16:55:54.484536Z",
     "iopub.status.busy": "2022-10-16T16:55:54.484087Z",
     "iopub.status.idle": "2022-10-16T16:55:54.567163Z",
     "shell.execute_reply": "2022-10-16T16:55:54.565945Z",
     "shell.execute_reply.started": "2022-10-16T16:55:54.484504Z"
    }
   },
   "outputs": [
    {
     "data": {
      "text/html": [
       "<div>\n",
       "<style scoped>\n",
       "    .dataframe tbody tr th:only-of-type {\n",
       "        vertical-align: middle;\n",
       "    }\n",
       "\n",
       "    .dataframe tbody tr th {\n",
       "        vertical-align: top;\n",
       "    }\n",
       "\n",
       "    .dataframe thead th {\n",
       "        text-align: right;\n",
       "    }\n",
       "</style>\n",
       "<table border=\"1\" class=\"dataframe\">\n",
       "  <thead>\n",
       "    <tr style=\"text-align: right;\">\n",
       "      <th></th>\n",
       "      <th>ID</th>\n",
       "      <th>LIMIT_BAL</th>\n",
       "      <th>SEX</th>\n",
       "      <th>EDUCATION</th>\n",
       "      <th>MARRIAGE</th>\n",
       "      <th>AGE</th>\n",
       "      <th>PAY_0</th>\n",
       "      <th>PAY_2</th>\n",
       "      <th>PAY_3</th>\n",
       "      <th>PAY_4</th>\n",
       "      <th>...</th>\n",
       "      <th>BILL_AMT3</th>\n",
       "      <th>BILL_AMT4</th>\n",
       "      <th>BILL_AMT5</th>\n",
       "      <th>BILL_AMT6</th>\n",
       "      <th>PAY_AMT1</th>\n",
       "      <th>PAY_AMT2</th>\n",
       "      <th>PAY_AMT3</th>\n",
       "      <th>PAY_AMT4</th>\n",
       "      <th>PAY_AMT5</th>\n",
       "      <th>PAY_AMT6</th>\n",
       "    </tr>\n",
       "  </thead>\n",
       "  <tbody>\n",
       "    <tr>\n",
       "      <th>count</th>\n",
       "      <td>3000.000000</td>\n",
       "      <td>3000.000000</td>\n",
       "      <td>3000.000000</td>\n",
       "      <td>3000.000000</td>\n",
       "      <td>3000.000000</td>\n",
       "      <td>3000.000000</td>\n",
       "      <td>3000.000000</td>\n",
       "      <td>3000.000000</td>\n",
       "      <td>3000.000000</td>\n",
       "      <td>3000.000000</td>\n",
       "      <td>...</td>\n",
       "      <td>3000.000000</td>\n",
       "      <td>3000.000000</td>\n",
       "      <td>3000.000000</td>\n",
       "      <td>3000.000000</td>\n",
       "      <td>3000.000000</td>\n",
       "      <td>3000.000000</td>\n",
       "      <td>3000.000000</td>\n",
       "      <td>3000.000000</td>\n",
       "      <td>3000.000000</td>\n",
       "      <td>3000.000000</td>\n",
       "    </tr>\n",
       "    <tr>\n",
       "      <th>mean</th>\n",
       "      <td>28499.500000</td>\n",
       "      <td>165356.666667</td>\n",
       "      <td>1.608333</td>\n",
       "      <td>1.866333</td>\n",
       "      <td>1.542000</td>\n",
       "      <td>35.474000</td>\n",
       "      <td>-0.026667</td>\n",
       "      <td>-0.146000</td>\n",
       "      <td>-0.153667</td>\n",
       "      <td>-0.232000</td>\n",
       "      <td>...</td>\n",
       "      <td>45775.050333</td>\n",
       "      <td>42713.938333</td>\n",
       "      <td>39626.349000</td>\n",
       "      <td>38282.312667</td>\n",
       "      <td>5371.662000</td>\n",
       "      <td>5334.753333</td>\n",
       "      <td>4881.073333</td>\n",
       "      <td>4458.898000</td>\n",
       "      <td>4508.425667</td>\n",
       "      <td>5211.147000</td>\n",
       "    </tr>\n",
       "    <tr>\n",
       "      <th>std</th>\n",
       "      <td>866.169729</td>\n",
       "      <td>128089.324616</td>\n",
       "      <td>0.488204</td>\n",
       "      <td>0.776317</td>\n",
       "      <td>0.517357</td>\n",
       "      <td>9.259801</td>\n",
       "      <td>1.090727</td>\n",
       "      <td>1.190164</td>\n",
       "      <td>1.233651</td>\n",
       "      <td>1.196099</td>\n",
       "      <td>...</td>\n",
       "      <td>64998.007695</td>\n",
       "      <td>62298.155627</td>\n",
       "      <td>59172.806784</td>\n",
       "      <td>58373.793903</td>\n",
       "      <td>13817.681598</td>\n",
       "      <td>14815.298736</td>\n",
       "      <td>13551.065013</td>\n",
       "      <td>11998.549533</td>\n",
       "      <td>13123.089643</td>\n",
       "      <td>18618.896842</td>\n",
       "    </tr>\n",
       "    <tr>\n",
       "      <th>min</th>\n",
       "      <td>27000.000000</td>\n",
       "      <td>10000.000000</td>\n",
       "      <td>1.000000</td>\n",
       "      <td>0.000000</td>\n",
       "      <td>0.000000</td>\n",
       "      <td>21.000000</td>\n",
       "      <td>-2.000000</td>\n",
       "      <td>-2.000000</td>\n",
       "      <td>-2.000000</td>\n",
       "      <td>-2.000000</td>\n",
       "      <td>...</td>\n",
       "      <td>-4617.000000</td>\n",
       "      <td>-3684.000000</td>\n",
       "      <td>-3450.000000</td>\n",
       "      <td>-51183.000000</td>\n",
       "      <td>0.000000</td>\n",
       "      <td>0.000000</td>\n",
       "      <td>0.000000</td>\n",
       "      <td>0.000000</td>\n",
       "      <td>0.000000</td>\n",
       "      <td>0.000000</td>\n",
       "    </tr>\n",
       "    <tr>\n",
       "      <th>25%</th>\n",
       "      <td>27749.750000</td>\n",
       "      <td>50000.000000</td>\n",
       "      <td>1.000000</td>\n",
       "      <td>1.000000</td>\n",
       "      <td>1.000000</td>\n",
       "      <td>28.000000</td>\n",
       "      <td>-1.000000</td>\n",
       "      <td>-1.000000</td>\n",
       "      <td>-1.000000</td>\n",
       "      <td>-1.000000</td>\n",
       "      <td>...</td>\n",
       "      <td>2308.250000</td>\n",
       "      <td>1997.500000</td>\n",
       "      <td>1632.250000</td>\n",
       "      <td>1014.500000</td>\n",
       "      <td>957.250000</td>\n",
       "      <td>551.250000</td>\n",
       "      <td>390.000000</td>\n",
       "      <td>284.000000</td>\n",
       "      <td>200.000000</td>\n",
       "      <td>57.500000</td>\n",
       "    </tr>\n",
       "    <tr>\n",
       "      <th>50%</th>\n",
       "      <td>28499.500000</td>\n",
       "      <td>140000.000000</td>\n",
       "      <td>2.000000</td>\n",
       "      <td>2.000000</td>\n",
       "      <td>2.000000</td>\n",
       "      <td>34.000000</td>\n",
       "      <td>0.000000</td>\n",
       "      <td>0.000000</td>\n",
       "      <td>0.000000</td>\n",
       "      <td>0.000000</td>\n",
       "      <td>...</td>\n",
       "      <td>19663.500000</td>\n",
       "      <td>18697.500000</td>\n",
       "      <td>17715.000000</td>\n",
       "      <td>16436.000000</td>\n",
       "      <td>2100.000000</td>\n",
       "      <td>2000.000000</td>\n",
       "      <td>1850.000000</td>\n",
       "      <td>1539.500000</td>\n",
       "      <td>1500.000000</td>\n",
       "      <td>1500.000000</td>\n",
       "    </tr>\n",
       "    <tr>\n",
       "      <th>75%</th>\n",
       "      <td>29249.250000</td>\n",
       "      <td>240000.000000</td>\n",
       "      <td>2.000000</td>\n",
       "      <td>2.000000</td>\n",
       "      <td>2.000000</td>\n",
       "      <td>41.000000</td>\n",
       "      <td>0.000000</td>\n",
       "      <td>0.000000</td>\n",
       "      <td>0.000000</td>\n",
       "      <td>0.000000</td>\n",
       "      <td>...</td>\n",
       "      <td>62251.750000</td>\n",
       "      <td>55977.000000</td>\n",
       "      <td>50483.000000</td>\n",
       "      <td>49149.500000</td>\n",
       "      <td>5000.000000</td>\n",
       "      <td>5000.000000</td>\n",
       "      <td>4310.500000</td>\n",
       "      <td>4050.500000</td>\n",
       "      <td>4000.000000</td>\n",
       "      <td>4000.000000</td>\n",
       "    </tr>\n",
       "    <tr>\n",
       "      <th>max</th>\n",
       "      <td>29999.000000</td>\n",
       "      <td>800000.000000</td>\n",
       "      <td>2.000000</td>\n",
       "      <td>6.000000</td>\n",
       "      <td>3.000000</td>\n",
       "      <td>70.000000</td>\n",
       "      <td>8.000000</td>\n",
       "      <td>7.000000</td>\n",
       "      <td>8.000000</td>\n",
       "      <td>7.000000</td>\n",
       "      <td>...</td>\n",
       "      <td>494290.000000</td>\n",
       "      <td>542653.000000</td>\n",
       "      <td>489200.000000</td>\n",
       "      <td>498316.000000</td>\n",
       "      <td>272817.000000</td>\n",
       "      <td>285138.000000</td>\n",
       "      <td>344261.000000</td>\n",
       "      <td>232242.000000</td>\n",
       "      <td>303512.000000</td>\n",
       "      <td>528666.000000</td>\n",
       "    </tr>\n",
       "  </tbody>\n",
       "</table>\n",
       "<p>8 rows × 24 columns</p>\n",
       "</div>"
      ],
      "text/plain": [
       "                 ID      LIMIT_BAL          SEX    EDUCATION     MARRIAGE  \\\n",
       "count   3000.000000    3000.000000  3000.000000  3000.000000  3000.000000   \n",
       "mean   28499.500000  165356.666667     1.608333     1.866333     1.542000   \n",
       "std      866.169729  128089.324616     0.488204     0.776317     0.517357   \n",
       "min    27000.000000   10000.000000     1.000000     0.000000     0.000000   \n",
       "25%    27749.750000   50000.000000     1.000000     1.000000     1.000000   \n",
       "50%    28499.500000  140000.000000     2.000000     2.000000     2.000000   \n",
       "75%    29249.250000  240000.000000     2.000000     2.000000     2.000000   \n",
       "max    29999.000000  800000.000000     2.000000     6.000000     3.000000   \n",
       "\n",
       "               AGE        PAY_0        PAY_2        PAY_3        PAY_4  ...  \\\n",
       "count  3000.000000  3000.000000  3000.000000  3000.000000  3000.000000  ...   \n",
       "mean     35.474000    -0.026667    -0.146000    -0.153667    -0.232000  ...   \n",
       "std       9.259801     1.090727     1.190164     1.233651     1.196099  ...   \n",
       "min      21.000000    -2.000000    -2.000000    -2.000000    -2.000000  ...   \n",
       "25%      28.000000    -1.000000    -1.000000    -1.000000    -1.000000  ...   \n",
       "50%      34.000000     0.000000     0.000000     0.000000     0.000000  ...   \n",
       "75%      41.000000     0.000000     0.000000     0.000000     0.000000  ...   \n",
       "max      70.000000     8.000000     7.000000     8.000000     7.000000  ...   \n",
       "\n",
       "           BILL_AMT3      BILL_AMT4      BILL_AMT5      BILL_AMT6  \\\n",
       "count    3000.000000    3000.000000    3000.000000    3000.000000   \n",
       "mean    45775.050333   42713.938333   39626.349000   38282.312667   \n",
       "std     64998.007695   62298.155627   59172.806784   58373.793903   \n",
       "min     -4617.000000   -3684.000000   -3450.000000  -51183.000000   \n",
       "25%      2308.250000    1997.500000    1632.250000    1014.500000   \n",
       "50%     19663.500000   18697.500000   17715.000000   16436.000000   \n",
       "75%     62251.750000   55977.000000   50483.000000   49149.500000   \n",
       "max    494290.000000  542653.000000  489200.000000  498316.000000   \n",
       "\n",
       "            PAY_AMT1       PAY_AMT2       PAY_AMT3       PAY_AMT4  \\\n",
       "count    3000.000000    3000.000000    3000.000000    3000.000000   \n",
       "mean     5371.662000    5334.753333    4881.073333    4458.898000   \n",
       "std     13817.681598   14815.298736   13551.065013   11998.549533   \n",
       "min         0.000000       0.000000       0.000000       0.000000   \n",
       "25%       957.250000     551.250000     390.000000     284.000000   \n",
       "50%      2100.000000    2000.000000    1850.000000    1539.500000   \n",
       "75%      5000.000000    5000.000000    4310.500000    4050.500000   \n",
       "max    272817.000000  285138.000000  344261.000000  232242.000000   \n",
       "\n",
       "            PAY_AMT5       PAY_AMT6  \n",
       "count    3000.000000    3000.000000  \n",
       "mean     4508.425667    5211.147000  \n",
       "std     13123.089643   18618.896842  \n",
       "min         0.000000       0.000000  \n",
       "25%       200.000000      57.500000  \n",
       "50%      1500.000000    1500.000000  \n",
       "75%      4000.000000    4000.000000  \n",
       "max    303512.000000  528666.000000  \n",
       "\n",
       "[8 rows x 24 columns]"
      ]
     },
     "execution_count": 33,
     "metadata": {},
     "output_type": "execute_result"
    }
   ],
   "source": [
    "test.describe()"
   ]
  },
  {
   "cell_type": "code",
   "execution_count": 34,
   "metadata": {
    "execution": {
     "iopub.execute_input": "2022-10-16T16:55:54.569552Z",
     "iopub.status.busy": "2022-10-16T16:55:54.568630Z",
     "iopub.status.idle": "2022-10-16T16:55:54.904417Z",
     "shell.execute_reply": "2022-10-16T16:55:54.903223Z",
     "shell.execute_reply.started": "2022-10-16T16:55:54.569512Z"
    }
   },
   "outputs": [
    {
     "data": {
      "image/png": "[encoded data removed]",
      "text/plain": [
       "<Figure size 432x288 with 1 Axes>"
      ]
     },
     "metadata": {
      "needs_background": "light"
     },
     "output_type": "display_data"
    }
   ],
   "source": [
    "import seaborn as sns\n",
    "import matplotlib.pyplot as plt\n",
    "sns.stripplot(x=train[\"default payment next month\"],y=train[\"AGE\"],data=train,palette=\"flare\")\n",
    "plt.xlabel(\"default payment next month\")\n",
    "plt.ylabel(\"AGE\")\n",
    "plt.show()"
   ]
  },
  {
   "cell_type": "code",
   "execution_count": 35,
   "metadata": {
    "execution": {
     "iopub.execute_input": "2022-10-16T16:55:54.908798Z",
     "iopub.status.busy": "2022-10-16T16:55:54.908391Z",
     "iopub.status.idle": "2022-10-16T16:55:55.079247Z",
     "shell.execute_reply": "2022-10-16T16:55:55.078347Z",
     "shell.execute_reply.started": "2022-10-16T16:55:54.908761Z"
    }
   },
   "outputs": [
    {
     "data": {
      "text/plain": [
       "Text(0, 0.5, 'count')"
      ]
     },
     "execution_count": 35,
     "metadata": {},
     "output_type": "execute_result"
    },
    {
     "data": {
      "image/png": "[encoded data removed]",
      "text/plain": [
       "<Figure size 432x288 with 1 Axes>"
      ]
     },
     "metadata": {
      "needs_background": "light"
     },
     "output_type": "display_data"
    }
   ],
   "source": [
    "sns.countplot(x=train[\"default payment next month\"],data=train,palette='rainbow')\n",
    "plt.xlabel(\"default payment next month\")\n",
    "plt.ylabel(\"count\")"
   ]
  },
  {
   "cell_type": "markdown",
   "metadata": {},
   "source": [
    "# PREDICTION MODEL"
   ]
  },
  {
   "cell_type": "code",
   "execution_count": 36,
   "metadata": {
    "execution": {
     "iopub.execute_input": "2022-10-16T16:55:55.082019Z",
     "iopub.status.busy": "2022-10-16T16:55:55.080656Z",
     "iopub.status.idle": "2022-10-16T16:55:55.100720Z",
     "shell.execute_reply": "2022-10-16T16:55:55.099125Z",
     "shell.execute_reply.started": "2022-10-16T16:55:55.081965Z"
    }
   },
   "outputs": [],
   "source": [
    "dum_df=pd.get_dummies(train)\n",
    "dum_df\n",
    "y = dum_df['default payment next month'].values\n",
    "X = dum_df.drop('default payment next month',axis=1).values"
   ]
  },
  {
   "cell_type": "code",
   "execution_count": 37,
   "metadata": {
    "execution": {
     "iopub.execute_input": "2022-10-16T16:55:55.104969Z",
     "iopub.status.busy": "2022-10-16T16:55:55.104285Z",
     "iopub.status.idle": "2022-10-16T16:55:55.119907Z",
     "shell.execute_reply": "2022-10-16T16:55:55.118409Z",
     "shell.execute_reply.started": "2022-10-16T16:55:55.104898Z"
    }
   },
   "outputs": [],
   "source": [
    "from sklearn.model_selection import train_test_split\n",
    "X_train, X_test, y_train, y_test = train_test_split(X, y, test_size=0.2, random_state=42)"
   ]
  },
  {
   "cell_type": "code",
   "execution_count": 38,
   "metadata": {
    "execution": {
     "iopub.execute_input": "2022-10-16T16:55:55.123041Z",
     "iopub.status.busy": "2022-10-16T16:55:55.121727Z",
     "iopub.status.idle": "2022-10-16T16:56:02.862261Z",
     "shell.execute_reply": "2022-10-16T16:56:02.861120Z",
     "shell.execute_reply.started": "2022-10-16T16:55:55.122988Z"
    }
   },
   "outputs": [
    {
     "name": "stdout",
     "output_type": "stream",
     "text": [
      "ACCURACY OF THE MODEL(in %):  81.87037037037037\n"
     ]
    }
   ],
   "source": [
    "clf = RandomForestClassifier(n_estimators = 100) \n",
    "clf.fit(X_train, y_train)\n",
    "y_pred = clf.predict(X_test)\n",
    "print(\"ACCURACY OF THE MODEL(in %): \", metrics.accuracy_score(y_test, y_pred)*100)"
   ]
  },
  {
   "cell_type": "code",
   "execution_count": 39,
   "metadata": {
    "execution": {
     "iopub.execute_input": "2022-10-16T16:56:02.864037Z",
     "iopub.status.busy": "2022-10-16T16:56:02.863670Z",
     "iopub.status.idle": "2022-10-16T16:56:02.871869Z",
     "shell.execute_reply": "2022-10-16T16:56:02.870585Z",
     "shell.execute_reply.started": "2022-10-16T16:56:02.864004Z"
    }
   },
   "outputs": [
    {
     "data": {
      "text/plain": [
       "(5400, 24)"
      ]
     },
     "execution_count": 39,
     "metadata": {},
     "output_type": "execute_result"
    }
   ],
   "source": [
    "X_test.shape"
   ]
  },
  {
   "cell_type": "code",
   "execution_count": 40,
   "metadata": {
    "execution": {
     "iopub.execute_input": "2022-10-16T16:56:02.874484Z",
     "iopub.status.busy": "2022-10-16T16:56:02.873395Z",
     "iopub.status.idle": "2022-10-16T16:56:02.904119Z",
     "shell.execute_reply": "2022-10-16T16:56:02.902844Z",
     "shell.execute_reply.started": "2022-10-16T16:56:02.874442Z"
    }
   },
   "outputs": [
    {
     "data": {
      "text/html": [
       "<div>\n",
       "<style scoped>\n",
       "    .dataframe tbody tr th:only-of-type {\n",
       "        vertical-align: middle;\n",
       "    }\n",
       "\n",
       "    .dataframe tbody tr th {\n",
       "        vertical-align: top;\n",
       "    }\n",
       "\n",
       "    .dataframe thead th {\n",
       "        text-align: right;\n",
       "    }\n",
       "</style>\n",
       "<table border=\"1\" class=\"dataframe\">\n",
       "  <thead>\n",
       "    <tr style=\"text-align: right;\">\n",
       "      <th></th>\n",
       "      <th>ID</th>\n",
       "      <th>LIMIT_BAL</th>\n",
       "      <th>SEX</th>\n",
       "      <th>EDUCATION</th>\n",
       "      <th>MARRIAGE</th>\n",
       "      <th>AGE</th>\n",
       "      <th>PAY_0</th>\n",
       "      <th>PAY_2</th>\n",
       "      <th>PAY_3</th>\n",
       "      <th>PAY_4</th>\n",
       "      <th>...</th>\n",
       "      <th>BILL_AMT3</th>\n",
       "      <th>BILL_AMT4</th>\n",
       "      <th>BILL_AMT5</th>\n",
       "      <th>BILL_AMT6</th>\n",
       "      <th>PAY_AMT1</th>\n",
       "      <th>PAY_AMT2</th>\n",
       "      <th>PAY_AMT3</th>\n",
       "      <th>PAY_AMT4</th>\n",
       "      <th>PAY_AMT5</th>\n",
       "      <th>PAY_AMT6</th>\n",
       "    </tr>\n",
       "  </thead>\n",
       "  <tbody>\n",
       "    <tr>\n",
       "      <th>0</th>\n",
       "      <td>27000</td>\n",
       "      <td>30000</td>\n",
       "      <td>1</td>\n",
       "      <td>2</td>\n",
       "      <td>2</td>\n",
       "      <td>25</td>\n",
       "      <td>0</td>\n",
       "      <td>0</td>\n",
       "      <td>0</td>\n",
       "      <td>0</td>\n",
       "      <td>...</td>\n",
       "      <td>11581</td>\n",
       "      <td>12580</td>\n",
       "      <td>13716</td>\n",
       "      <td>14828</td>\n",
       "      <td>1500</td>\n",
       "      <td>2000</td>\n",
       "      <td>1500</td>\n",
       "      <td>1500</td>\n",
       "      <td>1500</td>\n",
       "      <td>2000</td>\n",
       "    </tr>\n",
       "    <tr>\n",
       "      <th>1</th>\n",
       "      <td>27001</td>\n",
       "      <td>150000</td>\n",
       "      <td>2</td>\n",
       "      <td>1</td>\n",
       "      <td>2</td>\n",
       "      <td>26</td>\n",
       "      <td>0</td>\n",
       "      <td>0</td>\n",
       "      <td>0</td>\n",
       "      <td>0</td>\n",
       "      <td>...</td>\n",
       "      <td>116684</td>\n",
       "      <td>101581</td>\n",
       "      <td>77741</td>\n",
       "      <td>77264</td>\n",
       "      <td>4486</td>\n",
       "      <td>4235</td>\n",
       "      <td>3161</td>\n",
       "      <td>2647</td>\n",
       "      <td>2669</td>\n",
       "      <td>2669</td>\n",
       "    </tr>\n",
       "    <tr>\n",
       "      <th>2</th>\n",
       "      <td>27002</td>\n",
       "      <td>70000</td>\n",
       "      <td>2</td>\n",
       "      <td>3</td>\n",
       "      <td>1</td>\n",
       "      <td>32</td>\n",
       "      <td>0</td>\n",
       "      <td>0</td>\n",
       "      <td>0</td>\n",
       "      <td>0</td>\n",
       "      <td>...</td>\n",
       "      <td>68530</td>\n",
       "      <td>69753</td>\n",
       "      <td>70111</td>\n",
       "      <td>70212</td>\n",
       "      <td>2431</td>\n",
       "      <td>3112</td>\n",
       "      <td>3000</td>\n",
       "      <td>2438</td>\n",
       "      <td>2500</td>\n",
       "      <td>2554</td>\n",
       "    </tr>\n",
       "    <tr>\n",
       "      <th>3</th>\n",
       "      <td>27003</td>\n",
       "      <td>130000</td>\n",
       "      <td>1</td>\n",
       "      <td>3</td>\n",
       "      <td>2</td>\n",
       "      <td>49</td>\n",
       "      <td>0</td>\n",
       "      <td>0</td>\n",
       "      <td>0</td>\n",
       "      <td>0</td>\n",
       "      <td>...</td>\n",
       "      <td>16172</td>\n",
       "      <td>16898</td>\n",
       "      <td>11236</td>\n",
       "      <td>6944</td>\n",
       "      <td>1610</td>\n",
       "      <td>1808</td>\n",
       "      <td>7014</td>\n",
       "      <td>27</td>\n",
       "      <td>7011</td>\n",
       "      <td>4408</td>\n",
       "    </tr>\n",
       "    <tr>\n",
       "      <th>4</th>\n",
       "      <td>27004</td>\n",
       "      <td>50000</td>\n",
       "      <td>2</td>\n",
       "      <td>2</td>\n",
       "      <td>2</td>\n",
       "      <td>36</td>\n",
       "      <td>0</td>\n",
       "      <td>0</td>\n",
       "      <td>0</td>\n",
       "      <td>0</td>\n",
       "      <td>...</td>\n",
       "      <td>42361</td>\n",
       "      <td>19574</td>\n",
       "      <td>20295</td>\n",
       "      <td>19439</td>\n",
       "      <td>2000</td>\n",
       "      <td>1500</td>\n",
       "      <td>1000</td>\n",
       "      <td>1800</td>\n",
       "      <td>0</td>\n",
       "      <td>1000</td>\n",
       "    </tr>\n",
       "  </tbody>\n",
       "</table>\n",
       "<p>5 rows × 24 columns</p>\n",
       "</div>"
      ],
      "text/plain": [
       "      ID  LIMIT_BAL  SEX  EDUCATION  MARRIAGE  AGE  PAY_0  PAY_2  PAY_3  \\\n",
       "0  27000      30000    1          2         2   25      0      0      0   \n",
       "1  27001     150000    2          1         2   26      0      0      0   \n",
       "2  27002      70000    2          3         1   32      0      0      0   \n",
       "3  27003     130000    1          3         2   49      0      0      0   \n",
       "4  27004      50000    2          2         2   36      0      0      0   \n",
       "\n",
       "   PAY_4  ...  BILL_AMT3  BILL_AMT4  BILL_AMT5  BILL_AMT6  PAY_AMT1  PAY_AMT2  \\\n",
       "0      0  ...      11581      12580      13716      14828      1500      2000   \n",
       "1      0  ...     116684     101581      77741      77264      4486      4235   \n",
       "2      0  ...      68530      69753      70111      70212      2431      3112   \n",
       "3      0  ...      16172      16898      11236       6944      1610      1808   \n",
       "4      0  ...      42361      19574      20295      19439      2000      1500   \n",
       "\n",
       "   PAY_AMT3  PAY_AMT4  PAY_AMT5  PAY_AMT6  \n",
       "0      1500      1500      1500      2000  \n",
       "1      3161      2647      2669      2669  \n",
       "2      3000      2438      2500      2554  \n",
       "3      7014        27      7011      4408  \n",
       "4      1000      1800         0      1000  \n",
       "\n",
       "[5 rows x 24 columns]"
      ]
     },
     "execution_count": 40,
     "metadata": {},
     "output_type": "execute_result"
    }
   ],
   "source": [
    "test.head()"
   ]
  },
  {
   "cell_type": "code",
   "execution_count": 41,
   "metadata": {
    "execution": {
     "iopub.execute_input": "2022-10-16T16:56:02.906391Z",
     "iopub.status.busy": "2022-10-16T16:56:02.905431Z",
     "iopub.status.idle": "2022-10-16T16:56:02.917793Z",
     "shell.execute_reply": "2022-10-16T16:56:02.916379Z",
     "shell.execute_reply.started": "2022-10-16T16:56:02.906345Z"
    }
   },
   "outputs": [
    {
     "data": {
      "text/plain": [
       "Index(['ID', 'LIMIT_BAL', 'SEX', 'EDUCATION', 'MARRIAGE', 'AGE', 'PAY_0',\n",
       "       'PAY_2', 'PAY_3', 'PAY_4', 'PAY_5', 'PAY_6', 'BILL_AMT1', 'BILL_AMT2',\n",
       "       'BILL_AMT3', 'BILL_AMT4', 'BILL_AMT5', 'BILL_AMT6', 'PAY_AMT1',\n",
       "       'PAY_AMT2', 'PAY_AMT3', 'PAY_AMT4', 'PAY_AMT5', 'PAY_AMT6'],\n",
       "      dtype='object')"
      ]
     },
     "execution_count": 41,
     "metadata": {},
     "output_type": "execute_result"
    }
   ],
   "source": [
    "test.columns"
   ]
  },
  {
   "cell_type": "code",
   "execution_count": 42,
   "metadata": {
    "execution": {
     "iopub.execute_input": "2022-10-16T16:56:02.921885Z",
     "iopub.status.busy": "2022-10-16T16:56:02.920923Z",
     "iopub.status.idle": "2022-10-16T16:56:02.927709Z",
     "shell.execute_reply": "2022-10-16T16:56:02.926573Z",
     "shell.execute_reply.started": "2022-10-16T16:56:02.921846Z"
    }
   },
   "outputs": [],
   "source": [
    "ts_data=test"
   ]
  },
  {
   "cell_type": "code",
   "execution_count": 43,
   "metadata": {
    "execution": {
     "iopub.execute_input": "2022-10-16T16:56:02.929683Z",
     "iopub.status.busy": "2022-10-16T16:56:02.929320Z",
     "iopub.status.idle": "2022-10-16T16:56:02.943183Z",
     "shell.execute_reply": "2022-10-16T16:56:02.941898Z",
     "shell.execute_reply.started": "2022-10-16T16:56:02.929643Z"
    }
   },
   "outputs": [
    {
     "data": {
      "text/plain": [
       "Index(['ID', 'LIMIT_BAL', 'SEX', 'EDUCATION', 'MARRIAGE', 'AGE', 'PAY_0',\n",
       "       'PAY_2', 'PAY_3', 'PAY_4', 'PAY_5', 'PAY_6', 'BILL_AMT1', 'BILL_AMT2',\n",
       "       'BILL_AMT3', 'BILL_AMT4', 'BILL_AMT5', 'BILL_AMT6', 'PAY_AMT1',\n",
       "       'PAY_AMT2', 'PAY_AMT3', 'PAY_AMT4', 'PAY_AMT5', 'PAY_AMT6'],\n",
       "      dtype='object')"
      ]
     },
     "execution_count": 43,
     "metadata": {},
     "output_type": "execute_result"
    }
   ],
   "source": [
    "ts_data.columns"
   ]
  },
  {
   "cell_type": "code",
   "execution_count": 44,
   "metadata": {
    "execution": {
     "iopub.execute_input": "2022-10-16T16:56:02.945159Z",
     "iopub.status.busy": "2022-10-16T16:56:02.944794Z",
     "iopub.status.idle": "2022-10-16T16:56:03.046321Z",
     "shell.execute_reply": "2022-10-16T16:56:03.045101Z",
     "shell.execute_reply.started": "2022-10-16T16:56:02.945126Z"
    }
   },
   "outputs": [
    {
     "name": "stderr",
     "output_type": "stream",
     "text": [
      "/opt/conda/lib/python3.7/site-packages/sklearn/base.py:444: UserWarning: X has feature names, but RandomForestClassifier was fitted without feature names\n",
      "  f\"X has feature names, but {self.__class__.__name__} was fitted without\"\n"
     ]
    }
   ],
   "source": [
    "ts=clf.predict(ts_data)"
   ]
  },
  {
   "cell_type": "code",
   "execution_count": 45,
   "metadata": {
    "execution": {
     "iopub.execute_input": "2022-10-16T16:56:03.048015Z",
     "iopub.status.busy": "2022-10-16T16:56:03.047674Z",
     "iopub.status.idle": "2022-10-16T16:56:03.054125Z",
     "shell.execute_reply": "2022-10-16T16:56:03.053049Z",
     "shell.execute_reply.started": "2022-10-16T16:56:03.047984Z"
    }
   },
   "outputs": [],
   "source": [
    "ts_dict={'ID':test['ID'],'default payment next month':ts}"
   ]
  },
  {
   "cell_type": "code",
   "execution_count": 46,
   "metadata": {
    "execution": {
     "iopub.execute_input": "2022-10-16T16:56:03.056130Z",
     "iopub.status.busy": "2022-10-16T16:56:03.055741Z",
     "iopub.status.idle": "2022-10-16T16:56:03.069076Z",
     "shell.execute_reply": "2022-10-16T16:56:03.067942Z",
     "shell.execute_reply.started": "2022-10-16T16:56:03.056098Z"
    }
   },
   "outputs": [],
   "source": [
    "ts_d=pd.DataFrame(ts_dict,columns=['ID','default payment next month'])"
   ]
  },
  {
   "cell_type": "markdown",
   "metadata": {},
   "source": [
    "**PREDICTED DEFAULT PAYMENT NEXT MONTH**"
   ]
  },
  {
   "cell_type": "code",
   "execution_count": 47,
   "metadata": {
    "execution": {
     "iopub.execute_input": "2022-10-16T16:56:03.071910Z",
     "iopub.status.busy": "2022-10-16T16:56:03.070799Z",
     "iopub.status.idle": "2022-10-16T16:56:03.085412Z",
     "shell.execute_reply": "2022-10-16T16:56:03.084049Z",
     "shell.execute_reply.started": "2022-10-16T16:56:03.071713Z"
    }
   },
   "outputs": [
    {
     "data": {
      "text/html": [
       "<div>\n",
       "<style scoped>\n",
       "    .dataframe tbody tr th:only-of-type {\n",
       "        vertical-align: middle;\n",
       "    }\n",
       "\n",
       "    .dataframe tbody tr th {\n",
       "        vertical-align: top;\n",
       "    }\n",
       "\n",
       "    .dataframe thead th {\n",
       "        text-align: right;\n",
       "    }\n",
       "</style>\n",
       "<table border=\"1\" class=\"dataframe\">\n",
       "  <thead>\n",
       "    <tr style=\"text-align: right;\">\n",
       "      <th></th>\n",
       "      <th>ID</th>\n",
       "      <th>default payment next month</th>\n",
       "    </tr>\n",
       "  </thead>\n",
       "  <tbody>\n",
       "    <tr>\n",
       "      <th>0</th>\n",
       "      <td>27000</td>\n",
       "      <td>0</td>\n",
       "    </tr>\n",
       "    <tr>\n",
       "      <th>1</th>\n",
       "      <td>27001</td>\n",
       "      <td>0</td>\n",
       "    </tr>\n",
       "    <tr>\n",
       "      <th>2</th>\n",
       "      <td>27002</td>\n",
       "      <td>0</td>\n",
       "    </tr>\n",
       "    <tr>\n",
       "      <th>3</th>\n",
       "      <td>27003</td>\n",
       "      <td>0</td>\n",
       "    </tr>\n",
       "    <tr>\n",
       "      <th>4</th>\n",
       "      <td>27004</td>\n",
       "      <td>0</td>\n",
       "    </tr>\n",
       "    <tr>\n",
       "      <th>...</th>\n",
       "      <td>...</td>\n",
       "      <td>...</td>\n",
       "    </tr>\n",
       "    <tr>\n",
       "      <th>2995</th>\n",
       "      <td>29995</td>\n",
       "      <td>0</td>\n",
       "    </tr>\n",
       "    <tr>\n",
       "      <th>2996</th>\n",
       "      <td>29996</td>\n",
       "      <td>0</td>\n",
       "    </tr>\n",
       "    <tr>\n",
       "      <th>2997</th>\n",
       "      <td>29997</td>\n",
       "      <td>0</td>\n",
       "    </tr>\n",
       "    <tr>\n",
       "      <th>2998</th>\n",
       "      <td>29998</td>\n",
       "      <td>0</td>\n",
       "    </tr>\n",
       "    <tr>\n",
       "      <th>2999</th>\n",
       "      <td>29999</td>\n",
       "      <td>0</td>\n",
       "    </tr>\n",
       "  </tbody>\n",
       "</table>\n",
       "<p>3000 rows × 2 columns</p>\n",
       "</div>"
      ],
      "text/plain": [
       "         ID  default payment next month\n",
       "0     27000                           0\n",
       "1     27001                           0\n",
       "2     27002                           0\n",
       "3     27003                           0\n",
       "4     27004                           0\n",
       "...     ...                         ...\n",
       "2995  29995                           0\n",
       "2996  29996                           0\n",
       "2997  29997                           0\n",
       "2998  29998                           0\n",
       "2999  29999                           0\n",
       "\n",
       "[3000 rows x 2 columns]"
      ]
     },
     "execution_count": 47,
     "metadata": {},
     "output_type": "execute_result"
    }
   ],
   "source": [
    "ts_d"
   ]
  },
  {
   "cell_type": "markdown",
   "metadata": {},
   "source": [
    "**DATA VISUALIZATION**"
   ]
  },
  {
   "cell_type": "code",
   "execution_count": 48,
   "metadata": {
    "execution": {
     "iopub.execute_input": "2022-10-16T16:56:03.088764Z",
     "iopub.status.busy": "2022-10-16T16:56:03.087560Z",
     "iopub.status.idle": "2022-10-16T16:56:03.236111Z",
     "shell.execute_reply": "2022-10-16T16:56:03.235043Z",
     "shell.execute_reply.started": "2022-10-16T16:56:03.088690Z"
    }
   },
   "outputs": [
    {
     "data": {
      "image/png": "[encoded data removed]",
      "text/plain": [
       "<Figure size 432x288 with 1 Axes>"
      ]
     },
     "metadata": {
      "needs_background": "light"
     },
     "output_type": "display_data"
    }
   ],
   "source": [
    "import seaborn as sns\n",
    "import matplotlib.pyplot as plt\n",
    "p=test[\"ID\"]\n",
    "c=ts\n",
    "sns.stripplot(x=c,y=p,data=test,palette=\"Set1\")\n",
    "plt.xlabel(\"default payment next month\")\n",
    "plt.ylabel(\"ID\")\n",
    "plt.show()"
   ]
  },
  {
   "cell_type": "code",
   "execution_count": 49,
   "metadata": {
    "execution": {
     "iopub.execute_input": "2022-10-16T16:56:03.238450Z",
     "iopub.status.busy": "2022-10-16T16:56:03.237785Z",
     "iopub.status.idle": "2022-10-16T16:56:03.422036Z",
     "shell.execute_reply": "2022-10-16T16:56:03.420879Z",
     "shell.execute_reply.started": "2022-10-16T16:56:03.238413Z"
    }
   },
   "outputs": [
    {
     "data": {
      "text/plain": [
       "Text(0, 0.5, 'count')"
      ]
     },
     "execution_count": 49,
     "metadata": {},
     "output_type": "execute_result"
    },
    {
     "data": {
      "image/png": "[encoded data removed]",
      "text/plain": [
       "<Figure size 432x288 with 1 Axes>"
      ]
     },
     "metadata": {
      "needs_background": "light"
     },
     "output_type": "display_data"
    }
   ],
   "source": [
    "sns.countplot(x=ts,data=test,palette='rocket')\n",
    "plt.xlabel(\"default payment next month\")\n",
    "plt.ylabel(\"count\")"
   ]
  }
 ],
 "metadata": {
  "kernelspec": {
   "display_name": "Python 3 (ipykernel)",
   "language": "python",
   "name": "python3"
  },
  "language_info": {
   "codemirror_mode": {
    "name": "ipython",
    "version": 3
   },
   "file_extension": ".py",
   "mimetype": "text/x-python",
   "name": "python",
   "nbconvert_exporter": "python",
   "pygments_lexer": "ipython3",
   "version": "3.9.7"
  }
 },
 "nbformat": 4,
 "nbformat_minor": 4
}
